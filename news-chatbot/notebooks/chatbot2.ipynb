{
 "cells": [
  {
   "cell_type": "code",
   "execution_count": 3,
   "metadata": {},
   "outputs": [
    {
     "name": "stdout",
     "output_type": "stream",
     "text": [
      "Requirement already satisfied: python-dotenv in /Users/vinaymittal/.local/share/virtualenvs/news-chatbot-Q2ywUKKQ/lib/python3.12/site-packages (1.0.1)\n",
      "Requirement already satisfied: gradio in /Users/vinaymittal/.local/share/virtualenvs/news-chatbot-Q2ywUKKQ/lib/python3.12/site-packages (5.22.0)\n",
      "Requirement already satisfied: aiofiles<24.0,>=22.0 in /Users/vinaymittal/.local/share/virtualenvs/news-chatbot-Q2ywUKKQ/lib/python3.12/site-packages (from gradio) (23.2.1)\n",
      "Requirement already satisfied: anyio<5.0,>=3.0 in /Users/vinaymittal/.local/share/virtualenvs/news-chatbot-Q2ywUKKQ/lib/python3.12/site-packages (from gradio) (4.9.0)\n",
      "Requirement already satisfied: fastapi<1.0,>=0.115.2 in /Users/vinaymittal/.local/share/virtualenvs/news-chatbot-Q2ywUKKQ/lib/python3.12/site-packages (from gradio) (0.115.11)\n",
      "Requirement already satisfied: ffmpy in /Users/vinaymittal/.local/share/virtualenvs/news-chatbot-Q2ywUKKQ/lib/python3.12/site-packages (from gradio) (0.5.0)\n",
      "Requirement already satisfied: gradio-client==1.8.0 in /Users/vinaymittal/.local/share/virtualenvs/news-chatbot-Q2ywUKKQ/lib/python3.12/site-packages (from gradio) (1.8.0)\n",
      "Requirement already satisfied: groovy~=0.1 in /Users/vinaymittal/.local/share/virtualenvs/news-chatbot-Q2ywUKKQ/lib/python3.12/site-packages (from gradio) (0.1.2)\n",
      "Requirement already satisfied: httpx>=0.24.1 in /Users/vinaymittal/.local/share/virtualenvs/news-chatbot-Q2ywUKKQ/lib/python3.12/site-packages (from gradio) (0.28.1)\n",
      "Requirement already satisfied: huggingface-hub>=0.28.1 in /Users/vinaymittal/.local/share/virtualenvs/news-chatbot-Q2ywUKKQ/lib/python3.12/site-packages (from gradio) (0.29.3)\n",
      "Requirement already satisfied: jinja2<4.0 in /Users/vinaymittal/.local/share/virtualenvs/news-chatbot-Q2ywUKKQ/lib/python3.12/site-packages (from gradio) (3.1.6)\n",
      "Requirement already satisfied: markupsafe<4.0,>=2.0 in /Users/vinaymittal/.local/share/virtualenvs/news-chatbot-Q2ywUKKQ/lib/python3.12/site-packages (from gradio) (3.0.2)\n",
      "Requirement already satisfied: numpy<3.0,>=1.0 in /Users/vinaymittal/.local/share/virtualenvs/news-chatbot-Q2ywUKKQ/lib/python3.12/site-packages (from gradio) (2.2.4)\n",
      "Requirement already satisfied: orjson~=3.0 in /Users/vinaymittal/.local/share/virtualenvs/news-chatbot-Q2ywUKKQ/lib/python3.12/site-packages (from gradio) (3.10.15)\n",
      "Requirement already satisfied: packaging in /Users/vinaymittal/.local/share/virtualenvs/news-chatbot-Q2ywUKKQ/lib/python3.12/site-packages (from gradio) (24.2)\n",
      "Requirement already satisfied: pandas<3.0,>=1.0 in /Users/vinaymittal/.local/share/virtualenvs/news-chatbot-Q2ywUKKQ/lib/python3.12/site-packages (from gradio) (2.2.3)\n",
      "Requirement already satisfied: pillow<12.0,>=8.0 in /Users/vinaymittal/.local/share/virtualenvs/news-chatbot-Q2ywUKKQ/lib/python3.12/site-packages (from gradio) (11.1.0)\n",
      "Requirement already satisfied: pydantic>=2.0 in /Users/vinaymittal/.local/share/virtualenvs/news-chatbot-Q2ywUKKQ/lib/python3.12/site-packages (from gradio) (2.10.6)\n",
      "Requirement already satisfied: pydub in /Users/vinaymittal/.local/share/virtualenvs/news-chatbot-Q2ywUKKQ/lib/python3.12/site-packages (from gradio) (0.25.1)\n",
      "Requirement already satisfied: python-multipart>=0.0.18 in /Users/vinaymittal/.local/share/virtualenvs/news-chatbot-Q2ywUKKQ/lib/python3.12/site-packages (from gradio) (0.0.20)\n",
      "Requirement already satisfied: pyyaml<7.0,>=5.0 in /Users/vinaymittal/.local/share/virtualenvs/news-chatbot-Q2ywUKKQ/lib/python3.12/site-packages (from gradio) (6.0.2)\n",
      "Requirement already satisfied: ruff>=0.9.3 in /Users/vinaymittal/.local/share/virtualenvs/news-chatbot-Q2ywUKKQ/lib/python3.12/site-packages (from gradio) (0.11.1)\n",
      "Requirement already satisfied: safehttpx<0.2.0,>=0.1.6 in /Users/vinaymittal/.local/share/virtualenvs/news-chatbot-Q2ywUKKQ/lib/python3.12/site-packages (from gradio) (0.1.6)\n",
      "Requirement already satisfied: semantic-version~=2.0 in /Users/vinaymittal/.local/share/virtualenvs/news-chatbot-Q2ywUKKQ/lib/python3.12/site-packages (from gradio) (2.10.0)\n",
      "Requirement already satisfied: starlette<1.0,>=0.40.0 in /Users/vinaymittal/.local/share/virtualenvs/news-chatbot-Q2ywUKKQ/lib/python3.12/site-packages (from gradio) (0.46.1)\n",
      "Requirement already satisfied: tomlkit<0.14.0,>=0.12.0 in /Users/vinaymittal/.local/share/virtualenvs/news-chatbot-Q2ywUKKQ/lib/python3.12/site-packages (from gradio) (0.13.2)\n",
      "Requirement already satisfied: typer<1.0,>=0.12 in /Users/vinaymittal/.local/share/virtualenvs/news-chatbot-Q2ywUKKQ/lib/python3.12/site-packages (from gradio) (0.15.2)\n",
      "Requirement already satisfied: typing-extensions~=4.0 in /Users/vinaymittal/.local/share/virtualenvs/news-chatbot-Q2ywUKKQ/lib/python3.12/site-packages (from gradio) (4.12.2)\n",
      "Requirement already satisfied: uvicorn>=0.14.0 in /Users/vinaymittal/.local/share/virtualenvs/news-chatbot-Q2ywUKKQ/lib/python3.12/site-packages (from gradio) (0.34.0)\n",
      "Requirement already satisfied: fsspec in /Users/vinaymittal/.local/share/virtualenvs/news-chatbot-Q2ywUKKQ/lib/python3.12/site-packages (from gradio-client==1.8.0->gradio) (2025.3.0)\n",
      "Requirement already satisfied: websockets<16.0,>=10.0 in /Users/vinaymittal/.local/share/virtualenvs/news-chatbot-Q2ywUKKQ/lib/python3.12/site-packages (from gradio-client==1.8.0->gradio) (15.0.1)\n",
      "Requirement already satisfied: idna>=2.8 in /Users/vinaymittal/.local/share/virtualenvs/news-chatbot-Q2ywUKKQ/lib/python3.12/site-packages (from anyio<5.0,>=3.0->gradio) (3.10)\n",
      "Requirement already satisfied: sniffio>=1.1 in /Users/vinaymittal/.local/share/virtualenvs/news-chatbot-Q2ywUKKQ/lib/python3.12/site-packages (from anyio<5.0,>=3.0->gradio) (1.3.1)\n",
      "Requirement already satisfied: certifi in /Users/vinaymittal/.local/share/virtualenvs/news-chatbot-Q2ywUKKQ/lib/python3.12/site-packages (from httpx>=0.24.1->gradio) (2025.1.31)\n",
      "Requirement already satisfied: httpcore==1.* in /Users/vinaymittal/.local/share/virtualenvs/news-chatbot-Q2ywUKKQ/lib/python3.12/site-packages (from httpx>=0.24.1->gradio) (1.0.7)\n",
      "Requirement already satisfied: h11<0.15,>=0.13 in /Users/vinaymittal/.local/share/virtualenvs/news-chatbot-Q2ywUKKQ/lib/python3.12/site-packages (from httpcore==1.*->httpx>=0.24.1->gradio) (0.14.0)\n",
      "Requirement already satisfied: filelock in /Users/vinaymittal/.local/share/virtualenvs/news-chatbot-Q2ywUKKQ/lib/python3.12/site-packages (from huggingface-hub>=0.28.1->gradio) (3.18.0)\n",
      "Requirement already satisfied: requests in /Users/vinaymittal/.local/share/virtualenvs/news-chatbot-Q2ywUKKQ/lib/python3.12/site-packages (from huggingface-hub>=0.28.1->gradio) (2.32.3)\n",
      "Requirement already satisfied: tqdm>=4.42.1 in /Users/vinaymittal/.local/share/virtualenvs/news-chatbot-Q2ywUKKQ/lib/python3.12/site-packages (from huggingface-hub>=0.28.1->gradio) (4.67.1)\n",
      "Requirement already satisfied: python-dateutil>=2.8.2 in /Users/vinaymittal/.local/share/virtualenvs/news-chatbot-Q2ywUKKQ/lib/python3.12/site-packages (from pandas<3.0,>=1.0->gradio) (2.9.0.post0)\n",
      "Requirement already satisfied: pytz>=2020.1 in /Users/vinaymittal/.local/share/virtualenvs/news-chatbot-Q2ywUKKQ/lib/python3.12/site-packages (from pandas<3.0,>=1.0->gradio) (2025.1)\n",
      "Requirement already satisfied: tzdata>=2022.7 in /Users/vinaymittal/.local/share/virtualenvs/news-chatbot-Q2ywUKKQ/lib/python3.12/site-packages (from pandas<3.0,>=1.0->gradio) (2025.1)\n",
      "Requirement already satisfied: annotated-types>=0.6.0 in /Users/vinaymittal/.local/share/virtualenvs/news-chatbot-Q2ywUKKQ/lib/python3.12/site-packages (from pydantic>=2.0->gradio) (0.7.0)\n",
      "Requirement already satisfied: pydantic-core==2.27.2 in /Users/vinaymittal/.local/share/virtualenvs/news-chatbot-Q2ywUKKQ/lib/python3.12/site-packages (from pydantic>=2.0->gradio) (2.27.2)\n",
      "Requirement already satisfied: click>=8.0.0 in /Users/vinaymittal/.local/share/virtualenvs/news-chatbot-Q2ywUKKQ/lib/python3.12/site-packages (from typer<1.0,>=0.12->gradio) (8.1.8)\n",
      "Requirement already satisfied: shellingham>=1.3.0 in /Users/vinaymittal/.local/share/virtualenvs/news-chatbot-Q2ywUKKQ/lib/python3.12/site-packages (from typer<1.0,>=0.12->gradio) (1.5.4)\n",
      "Requirement already satisfied: rich>=10.11.0 in /Users/vinaymittal/.local/share/virtualenvs/news-chatbot-Q2ywUKKQ/lib/python3.12/site-packages (from typer<1.0,>=0.12->gradio) (13.9.4)\n",
      "Requirement already satisfied: six>=1.5 in /Users/vinaymittal/.local/share/virtualenvs/news-chatbot-Q2ywUKKQ/lib/python3.12/site-packages (from python-dateutil>=2.8.2->pandas<3.0,>=1.0->gradio) (1.17.0)\n",
      "Requirement already satisfied: markdown-it-py>=2.2.0 in /Users/vinaymittal/.local/share/virtualenvs/news-chatbot-Q2ywUKKQ/lib/python3.12/site-packages (from rich>=10.11.0->typer<1.0,>=0.12->gradio) (3.0.0)\n",
      "Requirement already satisfied: pygments<3.0.0,>=2.13.0 in /Users/vinaymittal/.local/share/virtualenvs/news-chatbot-Q2ywUKKQ/lib/python3.12/site-packages (from rich>=10.11.0->typer<1.0,>=0.12->gradio) (2.19.1)\n",
      "Requirement already satisfied: charset-normalizer<4,>=2 in /Users/vinaymittal/.local/share/virtualenvs/news-chatbot-Q2ywUKKQ/lib/python3.12/site-packages (from requests->huggingface-hub>=0.28.1->gradio) (3.4.1)\n",
      "Requirement already satisfied: urllib3<3,>=1.21.1 in /Users/vinaymittal/.local/share/virtualenvs/news-chatbot-Q2ywUKKQ/lib/python3.12/site-packages (from requests->huggingface-hub>=0.28.1->gradio) (2.3.0)\n",
      "Requirement already satisfied: mdurl~=0.1 in /Users/vinaymittal/.local/share/virtualenvs/news-chatbot-Q2ywUKKQ/lib/python3.12/site-packages (from markdown-it-py>=2.2.0->rich>=10.11.0->typer<1.0,>=0.12->gradio) (0.1.2)\n"
     ]
    }
   ],
   "source": [
    "! pip install python-dotenv \n",
    "! pip install gradio "
   ]
  },
  {
   "cell_type": "code",
   "execution_count": 4,
   "metadata": {},
   "outputs": [],
   "source": [
    "import os\n",
    "from dotenv import load_dotenv\n",
    "from openai import OpenAI\n",
    "import gradio as gr\n",
    "from sentence_transformers import SentenceTransformer\n",
    "import chromadb\n",
    "# Initialize\n",
    "load_dotenv()\n",
    "openai_api_key = os.getenv('OPENAI_API_KEY')\n",
    "\n",
    "openai = OpenAI()\n",
    "MODEL = 'gpt-4o-mini'\n",
    "EMBEDDING_MODEL = \"sentence-transformers/all-MiniLM-L6-v2\""
   ]
  },
  {
   "cell_type": "code",
   "execution_count": 5,
   "metadata": {},
   "outputs": [],
   "source": [
    "client = chromadb.PersistentClient(path=\"../databases/news\")  # Use mounted volume path\n",
    "collection = client.get_or_create_collection(name=\"processed_news\")\n",
    "embedding_model = SentenceTransformer(EMBEDDING_MODEL)\n",
    "query_embedding = embedding_model.encode([\"Sports\"]).tolist()[0]\n",
    "\n",
    "# Document retrieval\n",
    "results = collection.query(\n",
    "    query_embeddings=[query_embedding],\n",
    "    n_results=3,\n",
    "    include=[\"metadatas\", \"documents\"]\n",
    ")\n",
    "\n"
   ]
  },
  {
   "cell_type": "code",
   "execution_count": 6,
   "metadata": {},
   "outputs": [
    {
     "data": {
      "text/plain": [
       "[{'author': '9news.com',\n",
       "  'category': 'national',\n",
       "  'link': 'https://www.9news.com/article/sports/high-school/prep-rally-honor-roll/73-ddbba0b2-5be6-4d3d-a508-4627fb4617e8',\n",
       "  'published_date': 'Tue, 18 Mar 2025 20:08:47 GMT',\n",
       "  'sub_category': 'high-school, local-sports, local, news, sports, hs-football, all-usa, hs-basketball, hs-baseball, home',\n",
       "  'title': 'Prep Rally Honor Roll (3/18/25)'},\n",
       " {'author': '9news.com',\n",
       "  'category': 'national',\n",
       "  'link': 'https://www.9news.com/article/sports/high-school/prep-rally-honor-roll/73-ddbba0b2-5be6-4d3d-a508-4627fb4617e8',\n",
       "  'published_date': 'Tue, 18 Mar 2025 20:08:47 GMT',\n",
       "  'sub_category': 'high-school, local-sports, local, news, sports, hs-football, all-usa, hs-basketball, hs-baseball, home',\n",
       "  'title': 'Prep Rally Honor Roll (3/18/25)'},\n",
       " {'author': 'Matthew Sullivan',\n",
       "  'category': 'sports',\n",
       "  'link': 'https://www.news.com.au/sport/more-sports/champion-bodybuilder-issues-roid-rage-warning-reveals-truth-about-eyepopping-pics/news-story/257d9e551e22d2a909d4325c26e48f27',\n",
       "  'published_date': 'March 17, 2025 - 6:50PM',\n",
       "  'sub_category': 'More Sports',\n",
       "  'title': 'Bodybuilding star drops scary truth bomb'}]"
      ]
     },
     "execution_count": 6,
     "metadata": {},
     "output_type": "execute_result"
    }
   ],
   "source": [
    "results['metadatas'][0]"
   ]
  },
  {
   "cell_type": "code",
   "execution_count": 7,
   "metadata": {},
   "outputs": [],
   "source": [
    "\n",
    "\n",
    "system_message = \"You are a helpful assistant\"\n",
    "def chat(message, history):\n",
    "    client = chromadb.PersistentClient(path=\"../databases/news\")  # Use mounted volume path\n",
    "    collection = client.get_or_create_collection(name=\"processed_news\")\n",
    "\n",
    "    # Embedding model setup\n",
    "    \n",
    "    embedding_model = SentenceTransformer(EMBEDDING_MODEL)\n",
    "    query_embedding = embedding_model.encode([message]).tolist()[0]\n",
    "\n",
    "    # Document retrieval\n",
    "    results = collection.query(\n",
    "        query_embeddings=[query_embedding],\n",
    "        n_results=3,\n",
    "        include=[\"metadatas\", \"documents\"]\n",
    "    )\n",
    "    \n",
    "    # Build context\n",
    "    context = \"\\n\".join(results['documents'][0])\n",
    "    full_prompt = f\"\"\"Context information:\n",
    "    {context}\n",
    "    \n",
    "    User Question: {message}\n",
    "    \n",
    "    Answer based on the context and your knowledge:\"\"\"\n",
    "\n",
    "\n",
    "\n",
    "    messages = [{\"role\": \"system\", \"content\": system_message}] + history + [{\"role\": \"user\", \"content\": full_prompt}]\n",
    "\n",
    "    print(\"History is:\")\n",
    "    print(history)\n",
    "    print(\"And messages is:\")\n",
    "    print(messages)\n",
    "\n",
    "    stream = openai.chat.completions.create(model=MODEL, messages=messages, stream=True)\n",
    "    print(results['metadatas'][0])\n",
    "\n",
    "    response = \"\"\n",
    "    for chunk in stream:\n",
    "        response += chunk.choices[0].delta.content or ''\n",
    " # Use:\n",
    "        references = \"\\n\".join([f\"- {ref}\" for ref in results['metadatas'][0]])\n",
    "        yield f\"{response}\\n\\nReferences:\\n{references}\""
   ]
  },
  {
   "cell_type": "code",
   "execution_count": null,
   "metadata": {},
   "outputs": [
    {
     "name": "stdout",
     "output_type": "stream",
     "text": [
      "* Running on local URL:  http://127.0.0.1:7860\n",
      "\n",
      "To create a public link, set `share=True` in `launch()`.\n"
     ]
    },
    {
     "data": {
      "text/html": [
       "<div><iframe src=\"http://127.0.0.1:7860/\" width=\"100%\" height=\"500\" allow=\"autoplay; camera; microphone; clipboard-read; clipboard-write;\" frameborder=\"0\" allowfullscreen></iframe></div>"
      ],
      "text/plain": [
       "<IPython.core.display.HTML object>"
      ]
     },
     "metadata": {},
     "output_type": "display_data"
    },
    {
     "data": {
      "text/plain": []
     },
     "execution_count": 8,
     "metadata": {},
     "output_type": "execute_result"
    },
    {
     "name": "stdout",
     "output_type": "stream",
     "text": [
      "History is:\n",
      "[]\n",
      "And messages is:\n",
      "[{'role': 'system', 'content': 'You are a helpful assistant'}, {'role': 'user', 'content': 'Context information:\\n    watch the best high school sports moments of the week and vote for your favorite \\nwatch the best high school sports moments of the week and vote for your favorite \\nthe complex  called zebulon  will include spaces for basketball  baseball  softball  volleyball  football  soccer and hockey \\n\\n    User Question: Hi Tell me about sports\\n\\n    Answer based on the context and your knowledge:'}]\n",
      "[{'author': '9news.com', 'category': 'national', 'link': 'https://www.9news.com/article/sports/high-school/prep-rally-honor-roll/73-ddbba0b2-5be6-4d3d-a508-4627fb4617e8', 'published_date': 'Tue, 18 Mar 2025 20:08:47 GMT', 'sub_category': 'high-school, local-sports, local, news, sports, hs-football, all-usa, hs-basketball, hs-baseball, home', 'title': 'Prep Rally Honor Roll (3/18/25)'}, {'author': '9news.com', 'category': 'national', 'link': 'https://www.9news.com/article/sports/high-school/prep-rally-honor-roll/73-ddbba0b2-5be6-4d3d-a508-4627fb4617e8', 'published_date': 'Tue, 18 Mar 2025 20:08:47 GMT', 'sub_category': 'high-school, local-sports, local, news, sports, hs-football, all-usa, hs-basketball, hs-baseball, home', 'title': 'Prep Rally Honor Roll (3/18/25)'}, {'author': '9news.com', 'category': 'national', 'link': 'https://www.9news.com/article/money/sterling-ranch-regional-sports-complex/73-dafd89b8-8e2e-45e0-8cba-03eee15c56d6', 'published_date': 'Wed, 19 Mar 2025 14:27:52 GMT', 'sub_category': 'money, local, news, digital-1st-tracking, syndication, local-sports, sports, small-business, colorado-guide, business, entertainment, life, style, instagram, home', 'title': 'Zebulon sports complex moves forward with 200-acre wildlife corridor'}]\n"
     ]
    }
   ],
   "source": [
    "gr.ChatInterface(fn=chat, type=\"messages\").launch()"
   ]
  }
 ],
 "metadata": {
  "kernelspec": {
   "display_name": "news-chatbot-Q2ywUKKQ",
   "language": "python",
   "name": "python3"
  },
  "language_info": {
   "codemirror_mode": {
    "name": "ipython",
    "version": 3
   },
   "file_extension": ".py",
   "mimetype": "text/x-python",
   "name": "python",
   "nbconvert_exporter": "python",
   "pygments_lexer": "ipython3",
   "version": "3.12.5"
  }
 },
 "nbformat": 4,
 "nbformat_minor": 2
}
