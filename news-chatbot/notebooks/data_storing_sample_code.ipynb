{
 "cells": [
  {
   "cell_type": "code",
   "execution_count": 52,
   "metadata": {},
   "outputs": [],
   "source": [
    "import chromadb\n",
    "from sentence_transformers import SentenceTransformer\n",
    "from dotenv import load_dotenv\n",
    "import os\n",
    "from huggingface_hub import login\n"
   ]
  },
  {
   "cell_type": "code",
   "execution_count": null,
   "metadata": {},
   "outputs": [],
   "source": [
    "# This is to login \n",
    "load_dotenv()\n",
    "hf_token = os.getenv('HF_TOKEN')\n",
    "login(hf_token, add_to_git_credential=True)"
   ]
  },
  {
   "cell_type": "code",
   "execution_count": 59,
   "metadata": {},
   "outputs": [],
   "source": [
    "# client = chromadb.PersistentClient(path=\"../databases/sample_news_vectorstore\")\n",
    "client = chromadb.PersistentClient(path=\"../databases/news\")"
   ]
  },
  {
   "cell_type": "code",
   "execution_count": 60,
   "metadata": {},
   "outputs": [],
   "source": [
    "# Check if the collection exists and delete it if it does\n",
    "# collection_name = \"sample_news\"\n",
    "collection_name = \"processed_news\"\n",
    "collection = client.get_or_create_collection(name=collection_name)"
   ]
  },
  {
   "cell_type": "code",
   "execution_count": 6,
   "metadata": {},
   "outputs": [],
   "source": [
    "model = SentenceTransformer('sentence-transformers/all-MiniLM-L6-v2')"
   ]
  },
  {
   "cell_type": "code",
   "execution_count": 61,
   "metadata": {},
   "outputs": [],
   "source": [
    "vector = model.encode([\"Well hi there\"])[0]"
   ]
  },
  {
   "cell_type": "code",
   "execution_count": 62,
   "metadata": {},
   "outputs": [
    {
     "data": {
      "text/plain": [
       "array([-9.46715921e-02,  4.27619480e-02,  5.51620498e-02, -5.10962738e-04,\n",
       "        1.16203260e-02, -6.80130497e-02,  2.76405811e-02,  6.06974475e-02,\n",
       "        2.88530309e-02, -1.74128171e-02, -4.94346656e-02,  2.30993368e-02,\n",
       "       -1.28614372e-02, -4.31402922e-02,  2.17510257e-02,  4.26548645e-02,\n",
       "        5.10499887e-02, -7.79727027e-02, -1.23247243e-01,  3.67455557e-02,\n",
       "        4.54110606e-03,  9.47937742e-02, -5.53098507e-02,  1.70641206e-02,\n",
       "       -2.92873308e-02, -4.47124951e-02,  2.06784457e-02,  6.39320165e-02,\n",
       "        2.27427781e-02,  4.87789772e-02, -2.33503035e-03,  4.72859442e-02,\n",
       "       -2.86258962e-02,  2.30624825e-02,  2.45130397e-02,  3.95681970e-02,\n",
       "       -4.33176197e-02, -1.02316625e-01,  2.79874774e-03,  2.39304882e-02,\n",
       "        1.61556154e-02, -8.99078418e-03,  2.07255688e-02,  6.40123338e-02,\n",
       "        6.89179525e-02, -6.98360875e-02,  2.89764395e-03, -8.10988992e-02,\n",
       "        1.71123203e-02,  2.50653620e-03, -1.06529057e-01, -4.87733148e-02,\n",
       "       -1.67762041e-02, -2.28662305e-02,  1.14816584e-01,  4.87413220e-02,\n",
       "       -1.64962150e-02, -6.90832064e-02,  1.13612078e-01, -7.18485564e-02,\n",
       "       -9.01571065e-02,  3.91712456e-06, -8.66769403e-02, -4.05916385e-02,\n",
       "        3.71317938e-02, -1.77618619e-02, -5.57464026e-02, -4.57097329e-02,\n",
       "       -5.43141440e-02, -4.00611758e-02, -4.60227989e-02,  2.82194205e-02,\n",
       "       -2.33606398e-02,  1.44406883e-02, -1.52777461e-02, -4.34328429e-02,\n",
       "        6.81274384e-02,  8.21894556e-02,  7.83890672e-03, -2.85973065e-02,\n",
       "        6.14309646e-02, -4.92684618e-02,  3.27055180e-03, -2.72683166e-02,\n",
       "       -4.59346883e-02, -2.60167848e-02,  5.70650175e-02, -5.86463953e-04,\n",
       "       -4.37076613e-02, -2.47807417e-04, -8.73549953e-02,  3.48776393e-02,\n",
       "        1.39327236e-02, -1.60043724e-02,  2.86958776e-02, -9.48595777e-02,\n",
       "        9.40612778e-02,  5.92685342e-02, -8.65014344e-02,  1.45011380e-01,\n",
       "        2.35388409e-02,  3.43324952e-02,  2.51516962e-04,  7.15541244e-02,\n",
       "       -3.12182512e-02,  3.86665650e-02, -2.47745048e-02,  6.52674213e-02,\n",
       "       -8.28817189e-02, -2.80247182e-02,  9.34544671e-03, -7.85543211e-03,\n",
       "        5.30728251e-02,  2.96895411e-02,  3.27329561e-02,  4.94737104e-02,\n",
       "        2.52208579e-02,  4.67068404e-02,  5.03403395e-02, -7.23745152e-02,\n",
       "        2.54435297e-02, -3.67216468e-02,  1.27570340e-02,  1.46063734e-02,\n",
       "        2.11492609e-02, -5.56909367e-02, -9.18510836e-03, -5.63397912e-34,\n",
       "        9.58769619e-02,  5.94578013e-02,  5.11445254e-02,  3.36360112e-02,\n",
       "       -1.34414928e-02, -2.77202837e-02, -3.48436125e-02,  1.80352535e-02,\n",
       "       -2.53210980e-02,  6.73587900e-03,  5.47841080e-02, -3.60574126e-02,\n",
       "       -5.20869941e-02, -2.90345643e-02,  4.38962830e-03,  6.50023222e-02,\n",
       "        3.07485200e-02,  2.00220738e-02,  1.73043029e-03,  2.96725915e-03,\n",
       "        3.40953190e-03, -6.78145364e-02,  3.41304727e-02,  8.37869197e-03,\n",
       "        5.39904200e-02,  2.70389449e-02,  7.84119442e-02, -1.30136222e-01,\n",
       "        4.84649912e-02,  5.14179170e-02, -7.94680975e-03,  5.57883596e-03,\n",
       "       -5.31026050e-02,  3.81299518e-02, -3.05512808e-02, -7.69778788e-02,\n",
       "        1.20531386e-02, -4.08992954e-02, -8.69358853e-02,  6.38056174e-02,\n",
       "        1.68674774e-02,  1.68734661e-03,  6.28894269e-02, -1.67711563e-02,\n",
       "        2.15586051e-02,  7.10083405e-04,  2.81031127e-03, -8.89794994e-03,\n",
       "       -1.80887729e-02, -2.16216948e-02, -5.59149943e-02,  1.78774409e-02,\n",
       "       -9.27092806e-02,  7.27912923e-03, -1.27753615e-01, -4.86937575e-02,\n",
       "        1.45872515e-02, -1.62751433e-02,  6.75622374e-02,  3.87702174e-02,\n",
       "        7.23295361e-02,  9.14991871e-02, -9.65291932e-02,  4.84791324e-02,\n",
       "       -1.06274165e-01, -1.05042597e-02,  8.90350714e-02, -8.07525739e-02,\n",
       "        7.87081569e-02, -2.04917882e-02, -5.55080660e-02, -3.31532657e-02,\n",
       "       -2.14429274e-02,  4.94700260e-02, -7.05119222e-02,  6.63999170e-02,\n",
       "        7.39671215e-02, -2.70118006e-03,  1.62262432e-02, -3.98229137e-02,\n",
       "        5.94092607e-02, -7.14372285e-03, -3.33479457e-02,  2.30419375e-02,\n",
       "        1.87185761e-02, -6.15724660e-02, -8.55441322e-04, -1.05786659e-01,\n",
       "       -8.43619034e-02, -3.92993316e-02, -3.16447318e-02,  6.60644025e-02,\n",
       "        9.41815823e-02, -8.35982785e-02,  9.50878393e-03,  1.25504937e-34,\n",
       "        6.38198331e-02,  2.11371221e-02, -1.65899675e-02,  1.88641250e-02,\n",
       "       -5.57018854e-02,  1.82811334e-03, -1.37586696e-02,  8.16279203e-02,\n",
       "       -9.13297161e-02,  7.06856027e-02,  6.79991618e-02, -5.44536524e-02,\n",
       "        3.80394608e-02,  3.80505901e-03,  1.03689805e-01,  7.32792250e-04,\n",
       "        2.95661930e-02,  4.19423953e-02, -1.20444328e-01,  1.24932425e-02,\n",
       "       -5.53506613e-02,  1.75228491e-02, -2.28164811e-02, -5.79299554e-02,\n",
       "        9.42929648e-03, -5.42278960e-03, -3.94944148e-03,  2.82348841e-02,\n",
       "       -1.28066897e-01, -1.31305009e-02,  7.42957145e-02, -1.74529813e-02,\n",
       "       -9.72758904e-02,  8.25622585e-03,  2.06900928e-02, -5.29770693e-03,\n",
       "       -1.37696080e-02, -3.50973643e-02,  1.74977854e-02, -1.76232997e-02,\n",
       "       -6.50825426e-02, -3.84675786e-02, -8.76396820e-02,  3.21291834e-02,\n",
       "        2.55022198e-03, -2.09378973e-02,  5.55310138e-02,  2.57095750e-02,\n",
       "       -2.94735264e-02,  1.25047946e-02, -6.83466196e-02, -8.00624415e-02,\n",
       "       -1.46906544e-02,  1.03744324e-02, -8.51863101e-02, -1.10539049e-02,\n",
       "        2.14596409e-02,  4.08609174e-02,  3.31646428e-02, -2.76757460e-02,\n",
       "       -2.01877337e-02,  8.98879580e-03,  3.92048508e-02,  1.15103319e-01,\n",
       "        5.50440997e-02,  2.72754990e-02, -1.09526694e-01, -1.72622949e-02,\n",
       "        1.33438502e-02, -1.73702314e-02, -5.04373619e-03, -2.00292896e-02,\n",
       "        1.16672359e-01, -1.84322968e-02,  3.70628126e-02,  1.60885658e-02,\n",
       "        3.48830372e-02,  5.50574400e-02, -6.60797628e-03,  7.06828609e-02,\n",
       "        4.07849252e-02, -1.43314507e-02, -2.85441079e-03,  2.74251588e-02,\n",
       "       -4.26768996e-02,  1.26583334e-02,  3.34343277e-02,  1.62644926e-02,\n",
       "        1.19263111e-02, -2.92118900e-02,  2.73978021e-02,  3.44304889e-02,\n",
       "        2.52832547e-02,  3.07514369e-02,  3.22557390e-02, -1.74628472e-08,\n",
       "       -1.52690830e-02,  5.37678460e-03,  1.41246513e-01,  5.08366451e-02,\n",
       "        5.32256104e-02,  9.67938006e-02,  4.33674715e-02, -6.48309989e-03,\n",
       "        1.58604085e-02,  4.05631103e-02,  6.94985166e-02,  6.04905337e-02,\n",
       "       -6.26189336e-02, -3.96144278e-02,  1.10648885e-01,  1.67735182e-02,\n",
       "       -7.68693630e-03,  2.59615108e-02, -5.28793186e-02, -2.22318210e-02,\n",
       "        1.74595844e-02,  4.75339778e-02,  3.27674635e-02, -4.59685028e-02,\n",
       "        2.01770533e-02, -1.60875805e-02, -1.58613976e-02, -1.66658163e-02,\n",
       "       -3.05246692e-02, -3.87907438e-02, -1.27654579e-02,  6.57610297e-02,\n",
       "       -2.22502891e-02, -9.44992620e-03,  2.32080184e-02,  2.66038440e-02,\n",
       "        2.14203820e-02, -7.54579064e-03,  8.84752199e-02, -9.43513960e-02,\n",
       "       -5.74870482e-02, -7.77097791e-02,  1.95792271e-03, -1.50347762e-02,\n",
       "       -8.08496401e-03,  1.88217536e-02,  8.42519756e-03, -3.78591903e-02,\n",
       "        1.24534657e-02, -7.94995651e-02, -2.15790682e-02,  1.20276492e-02,\n",
       "        1.74870938e-02,  8.74478668e-02,  6.64091483e-02,  3.13736796e-02,\n",
       "       -1.00629032e-02,  2.07700878e-02, -5.20163439e-02, -8.91334843e-03,\n",
       "        1.48542315e-01, -2.51267431e-03,  9.93156135e-02,  2.34929714e-02],\n",
       "      dtype=float32)"
      ]
     },
     "execution_count": 62,
     "metadata": {},
     "output_type": "execute_result"
    }
   ],
   "source": [
    "vector"
   ]
  },
  {
   "cell_type": "code",
   "execution_count": 63,
   "metadata": {},
   "outputs": [],
   "source": [
    "import pandas as pd\n",
    "df = pd.read_csv(\"../data/processed/processed_news.csv\")"
   ]
  },
  {
   "cell_type": "code",
   "execution_count": 64,
   "metadata": {},
   "outputs": [
    {
     "data": {
      "text/html": [
       "<div>\n",
       "<style scoped>\n",
       "    .dataframe tbody tr th:only-of-type {\n",
       "        vertical-align: middle;\n",
       "    }\n",
       "\n",
       "    .dataframe tbody tr th {\n",
       "        vertical-align: top;\n",
       "    }\n",
       "\n",
       "    .dataframe thead th {\n",
       "        text-align: right;\n",
       "    }\n",
       "</style>\n",
       "<table border=\"1\" class=\"dataframe\">\n",
       "  <thead>\n",
       "    <tr style=\"text-align: right;\">\n",
       "      <th></th>\n",
       "      <th>Category</th>\n",
       "      <th>Link</th>\n",
       "      <th>Title</th>\n",
       "      <th>Description</th>\n",
       "      <th>Sub_category</th>\n",
       "      <th>Author</th>\n",
       "      <th>Published_Date</th>\n",
       "      <th>Published_Date_con</th>\n",
       "      <th>is_https</th>\n",
       "      <th>length_description</th>\n",
       "    </tr>\n",
       "  </thead>\n",
       "  <tbody>\n",
       "    <tr>\n",
       "      <th>0</th>\n",
       "      <td>lifestyle</td>\n",
       "      <td>https://www.news.com.au/lifestyle/real-life/ne...</td>\n",
       "      <td>Woman’s first Lotto ticket in 20 years wins</td>\n",
       "      <td>a lucky perth woman has become an instant mill...</td>\n",
       "      <td>News Life</td>\n",
       "      <td>Emma Kirk</td>\n",
       "      <td>March 19, 2025 - 9:31PM</td>\n",
       "      <td>2025-03-19 21:31:00</td>\n",
       "      <td>True</td>\n",
       "      <td>139</td>\n",
       "    </tr>\n",
       "    <tr>\n",
       "      <th>1</th>\n",
       "      <td>lifestyle</td>\n",
       "      <td>https://www.news.com.au/lifestyle/real-life/ne...</td>\n",
       "      <td>If you laugh at this video, you’re the problem</td>\n",
       "      <td>a viral trend is currently sweeping social med...</td>\n",
       "      <td>News Life</td>\n",
       "      <td>Rebekah Scanlan</td>\n",
       "      <td>March 19, 2025 - 11:56AM</td>\n",
       "      <td>2025-03-19 11:56:00</td>\n",
       "      <td>True</td>\n",
       "      <td>131</td>\n",
       "    </tr>\n",
       "    <tr>\n",
       "      <th>2</th>\n",
       "      <td>lifestyle</td>\n",
       "      <td>https://www.news.com.au/lifestyle/real-life/ne...</td>\n",
       "      <td>‘Don’t understand’: Act puzzling Aussies</td>\n",
       "      <td>australians are fed up with one particular act...</td>\n",
       "      <td>News Life</td>\n",
       "      <td>Claudia Poposki</td>\n",
       "      <td>March 18, 2025 - 6:47PM</td>\n",
       "      <td>2025-03-18 18:47:00</td>\n",
       "      <td>True</td>\n",
       "      <td>121</td>\n",
       "    </tr>\n",
       "    <tr>\n",
       "      <th>3</th>\n",
       "      <td>entertainment-news</td>\n",
       "      <td>https://www.9news.com/article/entertainment/te...</td>\n",
       "      <td>'SNL' announces hosts, musical guests for its ...</td>\n",
       "      <td>snl50  the anniversary special  was nbc s mos...</td>\n",
       "      <td>television, news, entertainment-news, entertai...</td>\n",
       "      <td>9news.com</td>\n",
       "      <td>Wed, 19 Mar 2025 19:24:54 GMT</td>\n",
       "      <td>2025-03-19 19:24:54+00:00</td>\n",
       "      <td>True</td>\n",
       "      <td>103</td>\n",
       "    </tr>\n",
       "    <tr>\n",
       "      <th>4</th>\n",
       "      <td>entertainment-news</td>\n",
       "      <td>https://www.9news.com/article/entertainment/mu...</td>\n",
       "      <td>Lollapalooza 2025 lineup: Olivia Rodrigo, Sabr...</td>\n",
       "      <td>the headliners this year bring a mix of pop  h...</td>\n",
       "      <td>music, entertainment, television, programs, en...</td>\n",
       "      <td>9news.com</td>\n",
       "      <td>Wed, 19 Mar 2025 18:10:52 GMT</td>\n",
       "      <td>2025-03-19 18:10:52+00:00</td>\n",
       "      <td>True</td>\n",
       "      <td>68</td>\n",
       "    </tr>\n",
       "    <tr>\n",
       "      <th>...</th>\n",
       "      <td>...</td>\n",
       "      <td>...</td>\n",
       "      <td>...</td>\n",
       "      <td>...</td>\n",
       "      <td>...</td>\n",
       "      <td>...</td>\n",
       "      <td>...</td>\n",
       "      <td>...</td>\n",
       "      <td>...</td>\n",
       "      <td>...</td>\n",
       "    </tr>\n",
       "    <tr>\n",
       "      <th>448</th>\n",
       "      <td>sports</td>\n",
       "      <td>https://www.news.com.au/sport/ufc/ufc-stunner-...</td>\n",
       "      <td>Bombshell UFC announcement for Aussie duo</td>\n",
       "      <td>australia could soon have two ufc champions  w...</td>\n",
       "      <td>UFC</td>\n",
       "      <td>Andrew Jackson</td>\n",
       "      <td>February 20, 2025 - 4:47PM</td>\n",
       "      <td>2025-02-20 16:47:00</td>\n",
       "      <td>True</td>\n",
       "      <td>103</td>\n",
       "    </tr>\n",
       "    <tr>\n",
       "      <th>449</th>\n",
       "      <td>sports</td>\n",
       "      <td>https://www.news.com.au/sport/alex-volkanovski...</td>\n",
       "      <td>Biggest month in Aussie UFC history: Two title...</td>\n",
       "      <td>two aussies are preparing for ufc title fights...</td>\n",
       "      <td>Sport</td>\n",
       "      <td>Brendan Bradford</td>\n",
       "      <td>February 20, 2025 - 4:30PM</td>\n",
       "      <td>2025-02-20 16:30:00</td>\n",
       "      <td>True</td>\n",
       "      <td>135</td>\n",
       "    </tr>\n",
       "    <tr>\n",
       "      <th>450</th>\n",
       "      <td>sports</td>\n",
       "      <td>https://www.news.com.au/sport/more-sports/auss...</td>\n",
       "      <td>‘Monster’: Tragic death of troubled Aus legend</td>\n",
       "      <td>an aussie surfing prodigy who crashed out of t...</td>\n",
       "      <td>More Sports</td>\n",
       "      <td>Daniel Peters</td>\n",
       "      <td>March 18, 2025 - 12:56PM</td>\n",
       "      <td>2025-03-18 12:56:00</td>\n",
       "      <td>True</td>\n",
       "      <td>146</td>\n",
       "    </tr>\n",
       "    <tr>\n",
       "      <th>451</th>\n",
       "      <td>sports</td>\n",
       "      <td>https://www.news.com.au/sport/more-sports/cham...</td>\n",
       "      <td>Bodybuilding star drops scary truth bomb</td>\n",
       "      <td>a champion natural bodybuilder has revealed th...</td>\n",
       "      <td>More Sports</td>\n",
       "      <td>Matthew Sullivan</td>\n",
       "      <td>March 17, 2025 - 6:50PM</td>\n",
       "      <td>2025-03-17 18:50:00</td>\n",
       "      <td>True</td>\n",
       "      <td>126</td>\n",
       "    </tr>\n",
       "    <tr>\n",
       "      <th>452</th>\n",
       "      <td>sports</td>\n",
       "      <td>https://www.news.com.au/sport/more-sports/teen...</td>\n",
       "      <td>Death threats, slurs as baton bash case turns</td>\n",
       "      <td>the teen runner behind the baton attack that h...</td>\n",
       "      <td>More Sports</td>\n",
       "      <td>Jack Thompson  Fox News</td>\n",
       "      <td>March 16, 2025 - 9:47AM</td>\n",
       "      <td>2025-03-16 09:47:00</td>\n",
       "      <td>True</td>\n",
       "      <td>140</td>\n",
       "    </tr>\n",
       "  </tbody>\n",
       "</table>\n",
       "<p>453 rows × 10 columns</p>\n",
       "</div>"
      ],
      "text/plain": [
       "               Category                                               Link  \\\n",
       "0             lifestyle  https://www.news.com.au/lifestyle/real-life/ne...   \n",
       "1             lifestyle  https://www.news.com.au/lifestyle/real-life/ne...   \n",
       "2             lifestyle  https://www.news.com.au/lifestyle/real-life/ne...   \n",
       "3    entertainment-news  https://www.9news.com/article/entertainment/te...   \n",
       "4    entertainment-news  https://www.9news.com/article/entertainment/mu...   \n",
       "..                  ...                                                ...   \n",
       "448              sports  https://www.news.com.au/sport/ufc/ufc-stunner-...   \n",
       "449              sports  https://www.news.com.au/sport/alex-volkanovski...   \n",
       "450              sports  https://www.news.com.au/sport/more-sports/auss...   \n",
       "451              sports  https://www.news.com.au/sport/more-sports/cham...   \n",
       "452              sports  https://www.news.com.au/sport/more-sports/teen...   \n",
       "\n",
       "                                                 Title  \\\n",
       "0          Woman’s first Lotto ticket in 20 years wins   \n",
       "1       If you laugh at this video, you’re the problem   \n",
       "2             ‘Don’t understand’: Act puzzling Aussies   \n",
       "3    'SNL' announces hosts, musical guests for its ...   \n",
       "4    Lollapalooza 2025 lineup: Olivia Rodrigo, Sabr...   \n",
       "..                                                 ...   \n",
       "448          Bombshell UFC announcement for Aussie duo   \n",
       "449  Biggest month in Aussie UFC history: Two title...   \n",
       "450     ‘Monster’: Tragic death of troubled Aus legend   \n",
       "451           Bodybuilding star drops scary truth bomb   \n",
       "452      Death threats, slurs as baton bash case turns   \n",
       "\n",
       "                                           Description  \\\n",
       "0    a lucky perth woman has become an instant mill...   \n",
       "1    a viral trend is currently sweeping social med...   \n",
       "2    australians are fed up with one particular act...   \n",
       "3     snl50  the anniversary special  was nbc s mos...   \n",
       "4    the headliners this year bring a mix of pop  h...   \n",
       "..                                                 ...   \n",
       "448  australia could soon have two ufc champions  w...   \n",
       "449  two aussies are preparing for ufc title fights...   \n",
       "450  an aussie surfing prodigy who crashed out of t...   \n",
       "451  a champion natural bodybuilder has revealed th...   \n",
       "452  the teen runner behind the baton attack that h...   \n",
       "\n",
       "                                          Sub_category  \\\n",
       "0                                            News Life   \n",
       "1                                            News Life   \n",
       "2                                            News Life   \n",
       "3    television, news, entertainment-news, entertai...   \n",
       "4    music, entertainment, television, programs, en...   \n",
       "..                                                 ...   \n",
       "448                                                UFC   \n",
       "449                                              Sport   \n",
       "450                                        More Sports   \n",
       "451                                        More Sports   \n",
       "452                                        More Sports   \n",
       "\n",
       "                      Author                 Published_Date  \\\n",
       "0                  Emma Kirk        March 19, 2025 - 9:31PM   \n",
       "1            Rebekah Scanlan       March 19, 2025 - 11:56AM   \n",
       "2            Claudia Poposki        March 18, 2025 - 6:47PM   \n",
       "3                  9news.com  Wed, 19 Mar 2025 19:24:54 GMT   \n",
       "4                  9news.com  Wed, 19 Mar 2025 18:10:52 GMT   \n",
       "..                       ...                            ...   \n",
       "448           Andrew Jackson     February 20, 2025 - 4:47PM   \n",
       "449         Brendan Bradford     February 20, 2025 - 4:30PM   \n",
       "450            Daniel Peters       March 18, 2025 - 12:56PM   \n",
       "451         Matthew Sullivan        March 17, 2025 - 6:50PM   \n",
       "452  Jack Thompson  Fox News        March 16, 2025 - 9:47AM   \n",
       "\n",
       "            Published_Date_con  is_https  length_description  \n",
       "0          2025-03-19 21:31:00      True                 139  \n",
       "1          2025-03-19 11:56:00      True                 131  \n",
       "2          2025-03-18 18:47:00      True                 121  \n",
       "3    2025-03-19 19:24:54+00:00      True                 103  \n",
       "4    2025-03-19 18:10:52+00:00      True                  68  \n",
       "..                         ...       ...                 ...  \n",
       "448        2025-02-20 16:47:00      True                 103  \n",
       "449        2025-02-20 16:30:00      True                 135  \n",
       "450        2025-03-18 12:56:00      True                 146  \n",
       "451        2025-03-17 18:50:00      True                 126  \n",
       "452        2025-03-16 09:47:00      True                 140  \n",
       "\n",
       "[453 rows x 10 columns]"
      ]
     },
     "execution_count": 64,
     "metadata": {},
     "output_type": "execute_result"
    }
   ],
   "source": [
    "df"
   ]
  },
  {
   "cell_type": "code",
   "execution_count": 65,
   "metadata": {},
   "outputs": [],
   "source": [
    "documents = df['Description'].tolist()\n",
    "vectors = model.encode(documents).astype(float).tolist()"
   ]
  },
  {
   "cell_type": "code",
   "execution_count": 67,
   "metadata": {},
   "outputs": [],
   "source": [
    "# Prepare metadata with additional information for each document\n",
    "metadatas = [{\n",
    "    \"category\": row['Category'],\n",
    "    \"sub_category\": row['Sub_category'],\n",
    "    \"author\": row['Author'],\n",
    "    \"published_date\": row[\"Published_Date\"],\n",
    "    \"link\": row['Link'],\n",
    "    \"title\": row['Title']\n",
    "} for _, row in df.iterrows()]\n"
   ]
  },
  {
   "cell_type": "code",
   "execution_count": 68,
   "metadata": {},
   "outputs": [],
   "source": [
    "# Create unique IDs for each document\n",
    "ids = [f\"doc_{i}\" for i in range(len(df))]\n"
   ]
  },
  {
   "cell_type": "code",
   "execution_count": 69,
   "metadata": {},
   "outputs": [],
   "source": [
    "collection.add(\n",
    "    ids=ids,\n",
    "    documents=documents,\n",
    "    embeddings=vectors,\n",
    "    metadatas=metadatas\n",
    ")"
   ]
  },
  {
   "cell_type": "markdown",
   "metadata": {},
   "source": [
    "## Visualise the data"
   ]
  },
  {
   "cell_type": "code",
   "execution_count": 70,
   "metadata": {},
   "outputs": [],
   "source": [
    "import numpy as np\n",
    "\n",
    "result = collection.get(include=['embeddings', 'documents', 'metadatas'])\n",
    "vectors = np.array(result['embeddings'])\n",
    "documents = result['documents']\n",
    "categories = [metadata['category'] for metadata in result['metadatas']]\n",
    "# colors = [COLORS[CATEGORIES.index(c)] for c in categories]"
   ]
  },
  {
   "cell_type": "code",
   "execution_count": 71,
   "metadata": {},
   "outputs": [],
   "source": [
    "CATEGORIES = list(set(categories))\n",
    "# COLORS = ['red', 'blue', 'brown', 'orange', 'yellow']"
   ]
  },
  {
   "cell_type": "code",
   "execution_count": 72,
   "metadata": {},
   "outputs": [],
   "source": [
    "import random\n",
    "\n",
    "# List of categories\n",
    "CATEGORIES = ['business', 'entertainment-news', 'lifestyle', 'sports', 'sport', \n",
    "              'technology', 'insights & analysis', 'world', 'finance', 'travel', \n",
    "              'general', 'entertainment', 'politics', 'investigations', 'national']\n",
    "\n",
    "\n",
    "# Define a list of classic and distinct colors\n",
    "COLORS = [\n",
    "    '#FF5733',  # Red-Orange\n",
    "    '#33FF57',  # Green\n",
    "    '#3357FF',  # Blue\n",
    "    '#FF33A6',  # Pink\n",
    "    '#FFD700',  # Gold\n",
    "    '#800080',  # Purple\n",
    "    '#FF6347',  # Tomato\n",
    "    '#008080',  # Teal\n",
    "    '#A52A2A',  # Brown\n",
    "    '#20B2AA',  # Light Sea Green\n",
    "    '#FF1493',  # Deep Pink\n",
    "    '#1E90FF',  # Dodger Blue\n",
    "    '#4B0082',  # Indigo\n",
    "    '#2F4F4F',  # Dark Slate Gray\n",
    "    '#D2691E',  # Chocolate\n",
    "]\n",
    "\n",
    "\n",
    "\n"
   ]
  },
  {
   "cell_type": "code",
   "execution_count": 73,
   "metadata": {},
   "outputs": [],
   "source": [
    "colors = [COLORS[CATEGORIES.index(c)] for c in categories]"
   ]
  },
  {
   "cell_type": "code",
   "execution_count": 74,
   "metadata": {},
   "outputs": [],
   "source": [
    "from sklearn.manifold import TSNE"
   ]
  },
  {
   "cell_type": "code",
   "execution_count": 75,
   "metadata": {},
   "outputs": [],
   "source": [
    "tsne = TSNE(n_components=3, random_state=42, n_jobs=-1)\n",
    "reduced_vectors = tsne.fit_transform(vectors)"
   ]
  },
  {
   "cell_type": "code",
   "execution_count": 76,
   "metadata": {},
   "outputs": [],
   "source": [
    "import plotly.graph_objects as go"
   ]
  },
  {
   "cell_type": "code",
   "execution_count": null,
   "metadata": {},
   "outputs": [],
   "source": [
    "# Let's try a 2D chart\n",
    "\n",
    "tsne = TSNE(n_components=2, random_state=42, n_jobs=-1)\n",
    "reduced_vectors = tsne.fit_transform(vectors)"
   ]
  },
  {
   "cell_type": "code",
   "execution_count": 78,
   "metadata": {},
   "outputs": [
    {
     "data": {
      "application/vnd.plotly.v1+json": {
       "config": {
        "plotlyServerURL": "https://plot.ly"
       },
       "data": [
        {
         "marker": {
          "color": [
           "#3357FF",
           "#3357FF",
           "#3357FF",
           "#33FF57",
           "#33FF57",
           "#33FF57",
           "#33FF57",
           "#33FF57",
           "#33FF57",
           "#33FF57",
           "#33FF57",
           "#33FF57",
           "#33FF57",
           "#33FF57",
           "#33FF57",
           "#33FF57",
           "#33FF57",
           "#33FF57",
           "#33FF57",
           "#33FF57",
           "#33FF57",
           "#33FF57",
           "#33FF57",
           "#33FF57",
           "#33FF57",
           "#33FF57",
           "#33FF57",
           "#33FF57",
           "#33FF57",
           "#33FF57",
           "#33FF57",
           "#33FF57",
           "#33FF57",
           "#33FF57",
           "#33FF57",
           "#33FF57",
           "#33FF57",
           "#33FF57",
           "#33FF57",
           "#33FF57",
           "#33FF57",
           "#33FF57",
           "#33FF57",
           "#A52A2A",
           "#A52A2A",
           "#A52A2A",
           "#A52A2A",
           "#A52A2A",
           "#A52A2A",
           "#A52A2A",
           "#A52A2A",
           "#A52A2A",
           "#A52A2A",
           "#A52A2A",
           "#A52A2A",
           "#A52A2A",
           "#A52A2A",
           "#A52A2A",
           "#A52A2A",
           "#A52A2A",
           "#A52A2A",
           "#A52A2A",
           "#A52A2A",
           "#A52A2A",
           "#A52A2A",
           "#FF33A6",
           "#FF33A6",
           "#4B0082",
           "#4B0082",
           "#4B0082",
           "#4B0082",
           "#4B0082",
           "#1E90FF",
           "#FF5733",
           "#FF1493",
           "#FF1493",
           "#FF1493",
           "#4B0082",
           "#FF1493",
           "#FF1493",
           "#4B0082",
           "#FF1493",
           "#1E90FF",
           "#FF1493",
           "#FF1493",
           "#FF5733",
           "#FF5733",
           "#FF5733",
           "#FF5733",
           "#FF5733",
           "#FF5733",
           "#FF5733",
           "#FF5733",
           "#FF33A6",
           "#FF5733",
           "#FF1493",
           "#4B0082",
           "#FF1493",
           "#FF1493",
           "#FF1493",
           "#FF1493",
           "#FF1493",
           "#FF1493",
           "#FF5733",
           "#FF33A6",
           "#FF1493",
           "#FF1493",
           "#FF1493",
           "#FF1493",
           "#FF1493",
           "#FF33A6",
           "#FF1493",
           "#FF5733",
           "#4B0082",
           "#4B0082",
           "#FF1493",
           "#FF1493",
           "#FF1493",
           "#1E90FF",
           "#FF1493",
           "#FF1493",
           "#FF1493",
           "#FF1493",
           "#FF1493",
           "#FF1493",
           "#FF1493",
           "#FF1493",
           "#FF1493",
           "#FF33A6",
           "#FF33A6",
           "#FF1493",
           "#FF1493",
           "#FF1493",
           "#FF1493",
           "#FF33A6",
           "#FF1493",
           "#FF1493",
           "#4B0082",
           "#FF1493",
           "#FF1493",
           "#FF1493",
           "#4B0082",
           "#FF1493",
           "#FF1493",
           "#FF1493",
           "#FF1493",
           "#FF1493",
           "#FF1493",
           "#FF1493",
           "#FF1493",
           "#FF1493",
           "#FF1493",
           "#FF1493",
           "#FF1493",
           "#FF1493",
           "#FF1493",
           "#FF1493",
           "#FF1493",
           "#FF1493",
           "#FF1493",
           "#FF1493",
           "#FF33A6",
           "#FF33A6",
           "#FF5733",
           "#FF1493",
           "#D2691E",
           "#D2691E",
           "#D2691E",
           "#D2691E",
           "#D2691E",
           "#D2691E",
           "#D2691E",
           "#D2691E",
           "#D2691E",
           "#D2691E",
           "#D2691E",
           "#D2691E",
           "#D2691E",
           "#D2691E",
           "#D2691E",
           "#D2691E",
           "#D2691E",
           "#D2691E",
           "#D2691E",
           "#D2691E",
           "#D2691E",
           "#D2691E",
           "#D2691E",
           "#D2691E",
           "#D2691E",
           "#D2691E",
           "#D2691E",
           "#D2691E",
           "#D2691E",
           "#D2691E",
           "#D2691E",
           "#D2691E",
           "#D2691E",
           "#D2691E",
           "#D2691E",
           "#D2691E",
           "#D2691E",
           "#D2691E",
           "#D2691E",
           "#D2691E",
           "#1E90FF",
           "#1E90FF",
           "#1E90FF",
           "#1E90FF",
           "#1E90FF",
           "#2F4F4F",
           "#2F4F4F",
           "#2F4F4F",
           "#2F4F4F",
           "#2F4F4F",
           "#2F4F4F",
           "#2F4F4F",
           "#2F4F4F",
           "#2F4F4F",
           "#2F4F4F",
           "#2F4F4F",
           "#2F4F4F",
           "#2F4F4F",
           "#2F4F4F",
           "#2F4F4F",
           "#2F4F4F",
           "#2F4F4F",
           "#2F4F4F",
           "#2F4F4F",
           "#2F4F4F",
           "#2F4F4F",
           "#2F4F4F",
           "#2F4F4F",
           "#2F4F4F",
           "#2F4F4F",
           "#2F4F4F",
           "#2F4F4F",
           "#2F4F4F",
           "#2F4F4F",
           "#2F4F4F",
           "#2F4F4F",
           "#2F4F4F",
           "#2F4F4F",
           "#2F4F4F",
           "#2F4F4F",
           "#2F4F4F",
           "#2F4F4F",
           "#2F4F4F",
           "#2F4F4F",
           "#2F4F4F",
           "#20B2AA",
           "#20B2AA",
           "#20B2AA",
           "#20B2AA",
           "#20B2AA",
           "#800080",
           "#800080",
           "#800080",
           "#800080",
           "#800080",
           "#800080",
           "#800080",
           "#800080",
           "#800080",
           "#800080",
           "#800080",
           "#800080",
           "#800080",
           "#800080",
           "#800080",
           "#D2691E",
           "#D2691E",
           "#D2691E",
           "#D2691E",
           "#D2691E",
           "#D2691E",
           "#D2691E",
           "#D2691E",
           "#008080",
           "#008080",
           "#008080",
           "#008080",
           "#008080",
           "#008080",
           "#008080",
           "#008080",
           "#3357FF",
           "#3357FF",
           "#3357FF",
           "#3357FF",
           "#3357FF",
           "#3357FF",
           "#3357FF",
           "#3357FF",
           "#FF6347",
           "#FF6347",
           "#FF6347",
           "#FF5733",
           "#FF5733",
           "#FF5733",
           "#FF5733",
           "#FF5733",
           "#FF5733",
           "#FF5733",
           "#FF5733",
           "#FF5733",
           "#008080",
           "#008080",
           "#008080",
           "#008080",
           "#008080",
           "#008080",
           "#008080",
           "#008080",
           "#008080",
           "#008080",
           "#008080",
           "#008080",
           "#008080",
           "#008080",
           "#008080",
           "#008080",
           "#008080",
           "#008080",
           "#008080",
           "#008080",
           "#008080",
           "#008080",
           "#008080",
           "#008080",
           "#008080",
           "#008080",
           "#008080",
           "#008080",
           "#008080",
           "#008080",
           "#008080",
           "#008080",
           "#008080",
           "#008080",
           "#008080",
           "#008080",
           "#008080",
           "#008080",
           "#008080",
           "#008080",
           "#008080",
           "#008080",
           "#D2691E",
           "#D2691E",
           "#D2691E",
           "#D2691E",
           "#D2691E",
           "#D2691E",
           "#D2691E",
           "#D2691E",
           "#D2691E",
           "#D2691E",
           "#D2691E",
           "#D2691E",
           "#D2691E",
           "#D2691E",
           "#D2691E",
           "#D2691E",
           "#D2691E",
           "#D2691E",
           "#D2691E",
           "#D2691E",
           "#D2691E",
           "#D2691E",
           "#D2691E",
           "#D2691E",
           "#D2691E",
           "#D2691E",
           "#D2691E",
           "#D2691E",
           "#D2691E",
           "#D2691E",
           "#D2691E",
           "#D2691E",
           "#D2691E",
           "#D2691E",
           "#4B0082",
           "#4B0082",
           "#4B0082",
           "#4B0082",
           "#4B0082",
           "#4B0082",
           "#4B0082",
           "#4B0082",
           "#4B0082",
           "#4B0082",
           "#4B0082",
           "#4B0082",
           "#4B0082",
           "#4B0082",
           "#4B0082",
           "#4B0082",
           "#4B0082",
           "#4B0082",
           "#4B0082",
           "#4B0082",
           "#4B0082",
           "#4B0082",
           "#4B0082",
           "#4B0082",
           "#4B0082",
           "#4B0082",
           "#4B0082",
           "#4B0082",
           "#4B0082",
           "#4B0082",
           "#4B0082",
           "#4B0082",
           "#4B0082",
           "#4B0082",
           "#4B0082",
           "#4B0082",
           "#4B0082",
           "#4B0082",
           "#4B0082",
           "#4B0082",
           "#FFD700",
           "#FFD700",
           "#FFD700",
           "#FFD700",
           "#FFD700",
           "#FFD700",
           "#FFD700",
           "#FFD700",
           "#FFD700",
           "#FFD700",
           "#FFD700",
           "#FFD700",
           "#FFD700",
           "#FFD700",
           "#FFD700",
           "#FFD700",
           "#FFD700",
           "#FFD700",
           "#FFD700",
           "#FFD700",
           "#FFD700",
           "#FFD700",
           "#FFD700",
           "#FFD700",
           "#FFD700",
           "#FFD700",
           "#FFD700",
           "#FFD700",
           "#FFD700",
           "#FFD700",
           "#FFD700",
           "#3357FF",
           "#3357FF",
           "#3357FF",
           "#33FF57",
           "#33FF57",
           "#33FF57",
           "#33FF57",
           "#33FF57",
           "#33FF57",
           "#33FF57",
           "#33FF57",
           "#33FF57",
           "#33FF57",
           "#33FF57",
           "#33FF57",
           "#33FF57",
           "#33FF57",
           "#33FF57",
           "#33FF57",
           "#33FF57",
           "#33FF57",
           "#33FF57",
           "#33FF57",
           "#33FF57",
           "#33FF57",
           "#33FF57",
           "#33FF57",
           "#33FF57",
           "#33FF57",
           "#33FF57",
           "#33FF57",
           "#33FF57",
           "#33FF57",
           "#33FF57",
           "#33FF57",
           "#33FF57",
           "#33FF57",
           "#33FF57",
           "#33FF57",
           "#33FF57",
           "#33FF57",
           "#33FF57",
           "#33FF57",
           "#A52A2A",
           "#A52A2A",
           "#A52A2A",
           "#A52A2A",
           "#A52A2A",
           "#A52A2A",
           "#A52A2A",
           "#A52A2A",
           "#A52A2A",
           "#A52A2A",
           "#A52A2A",
           "#A52A2A",
           "#A52A2A",
           "#A52A2A",
           "#A52A2A",
           "#A52A2A",
           "#A52A2A",
           "#A52A2A",
           "#A52A2A",
           "#A52A2A",
           "#A52A2A",
           "#A52A2A",
           "#FF33A6",
           "#FF33A6",
           "#4B0082",
           "#4B0082",
           "#4B0082",
           "#4B0082",
           "#4B0082",
           "#1E90FF",
           "#FF5733",
           "#FF1493",
           "#FF1493",
           "#FF1493",
           "#4B0082",
           "#FF1493",
           "#FF1493",
           "#4B0082",
           "#FF1493",
           "#1E90FF",
           "#FF1493",
           "#FF1493",
           "#FF5733",
           "#FF5733",
           "#FF5733",
           "#FF5733",
           "#FF5733",
           "#FF5733",
           "#FF5733",
           "#FF5733",
           "#FF33A6",
           "#FF5733",
           "#FF1493",
           "#4B0082",
           "#FF1493",
           "#FF1493",
           "#FF1493",
           "#FF1493",
           "#FF1493",
           "#FF1493",
           "#FF5733",
           "#FF33A6",
           "#FF1493",
           "#FF1493",
           "#FF1493",
           "#FF1493",
           "#FF1493",
           "#FF33A6",
           "#FF1493",
           "#FF5733",
           "#4B0082",
           "#4B0082",
           "#FF1493",
           "#FF1493",
           "#FF1493",
           "#1E90FF",
           "#FF1493",
           "#FF1493",
           "#FF1493",
           "#FF1493",
           "#FF1493",
           "#FF1493",
           "#FF1493",
           "#FF1493",
           "#FF1493",
           "#FF33A6",
           "#FF33A6",
           "#FF1493",
           "#FF1493",
           "#FF1493",
           "#FF1493",
           "#FF33A6",
           "#FF1493",
           "#FF1493",
           "#4B0082",
           "#FF1493",
           "#FF1493",
           "#FF1493",
           "#4B0082",
           "#FF1493",
           "#FF1493",
           "#FF1493",
           "#FF1493",
           "#FF1493",
           "#FF1493",
           "#FF1493",
           "#FF1493",
           "#FF1493",
           "#FF1493",
           "#FF1493",
           "#FF1493",
           "#FF1493",
           "#FF1493",
           "#FF1493",
           "#FF1493",
           "#FF1493",
           "#FF1493",
           "#FF1493",
           "#FF33A6",
           "#FF33A6",
           "#FF5733",
           "#FF1493",
           "#D2691E",
           "#D2691E",
           "#D2691E",
           "#D2691E",
           "#D2691E",
           "#D2691E",
           "#D2691E",
           "#D2691E",
           "#D2691E",
           "#D2691E",
           "#D2691E",
           "#D2691E",
           "#D2691E",
           "#D2691E",
           "#D2691E",
           "#D2691E",
           "#D2691E",
           "#D2691E",
           "#D2691E",
           "#D2691E",
           "#D2691E",
           "#D2691E",
           "#D2691E",
           "#D2691E",
           "#D2691E",
           "#D2691E",
           "#D2691E",
           "#D2691E",
           "#D2691E",
           "#D2691E",
           "#D2691E",
           "#D2691E",
           "#D2691E",
           "#D2691E",
           "#D2691E",
           "#D2691E",
           "#D2691E",
           "#D2691E",
           "#D2691E",
           "#D2691E",
           "#1E90FF",
           "#1E90FF",
           "#1E90FF",
           "#1E90FF",
           "#1E90FF",
           "#2F4F4F",
           "#2F4F4F",
           "#2F4F4F",
           "#2F4F4F",
           "#2F4F4F",
           "#2F4F4F",
           "#2F4F4F",
           "#2F4F4F",
           "#2F4F4F",
           "#2F4F4F",
           "#2F4F4F",
           "#2F4F4F",
           "#2F4F4F",
           "#2F4F4F",
           "#2F4F4F",
           "#2F4F4F",
           "#2F4F4F",
           "#2F4F4F",
           "#2F4F4F",
           "#2F4F4F",
           "#2F4F4F",
           "#2F4F4F",
           "#2F4F4F",
           "#2F4F4F",
           "#2F4F4F",
           "#2F4F4F",
           "#2F4F4F",
           "#2F4F4F",
           "#2F4F4F",
           "#2F4F4F",
           "#2F4F4F",
           "#2F4F4F",
           "#2F4F4F",
           "#2F4F4F",
           "#2F4F4F",
           "#2F4F4F",
           "#2F4F4F",
           "#2F4F4F",
           "#2F4F4F",
           "#2F4F4F",
           "#20B2AA",
           "#20B2AA",
           "#20B2AA",
           "#20B2AA",
           "#20B2AA",
           "#800080",
           "#800080",
           "#800080",
           "#800080",
           "#800080",
           "#800080",
           "#800080",
           "#800080",
           "#800080",
           "#800080",
           "#800080",
           "#800080",
           "#800080",
           "#800080",
           "#800080",
           "#D2691E",
           "#D2691E",
           "#D2691E",
           "#D2691E",
           "#D2691E",
           "#D2691E",
           "#D2691E",
           "#D2691E",
           "#008080",
           "#008080",
           "#008080",
           "#008080",
           "#008080",
           "#008080",
           "#008080",
           "#008080",
           "#3357FF",
           "#3357FF",
           "#3357FF",
           "#3357FF",
           "#3357FF",
           "#3357FF",
           "#3357FF",
           "#3357FF",
           "#FF6347",
           "#FF6347",
           "#FF6347",
           "#FF5733",
           "#FF5733",
           "#FF5733",
           "#FF5733",
           "#FF5733",
           "#FF5733",
           "#FF5733",
           "#FF5733",
           "#FF5733",
           "#008080",
           "#008080",
           "#008080",
           "#008080",
           "#008080",
           "#008080",
           "#008080",
           "#008080",
           "#008080",
           "#008080",
           "#008080",
           "#008080",
           "#008080",
           "#008080",
           "#008080",
           "#008080",
           "#008080",
           "#008080",
           "#008080",
           "#008080",
           "#008080",
           "#008080",
           "#008080",
           "#008080",
           "#008080",
           "#008080",
           "#008080",
           "#008080",
           "#008080",
           "#008080",
           "#008080",
           "#008080",
           "#008080",
           "#008080",
           "#008080",
           "#008080",
           "#008080",
           "#008080",
           "#008080",
           "#008080",
           "#008080",
           "#008080",
           "#D2691E",
           "#D2691E",
           "#D2691E",
           "#D2691E",
           "#D2691E",
           "#D2691E",
           "#D2691E",
           "#D2691E",
           "#D2691E",
           "#D2691E",
           "#D2691E",
           "#D2691E",
           "#D2691E",
           "#D2691E",
           "#D2691E",
           "#D2691E",
           "#D2691E",
           "#D2691E",
           "#D2691E",
           "#D2691E",
           "#D2691E",
           "#D2691E",
           "#D2691E",
           "#D2691E",
           "#D2691E",
           "#D2691E",
           "#D2691E",
           "#D2691E",
           "#D2691E",
           "#D2691E",
           "#D2691E",
           "#D2691E",
           "#D2691E",
           "#D2691E",
           "#4B0082",
           "#4B0082",
           "#4B0082",
           "#4B0082",
           "#4B0082",
           "#4B0082",
           "#4B0082",
           "#4B0082",
           "#4B0082",
           "#4B0082",
           "#4B0082",
           "#4B0082",
           "#4B0082",
           "#4B0082",
           "#4B0082",
           "#4B0082",
           "#4B0082",
           "#4B0082",
           "#4B0082",
           "#4B0082",
           "#4B0082",
           "#4B0082",
           "#4B0082",
           "#4B0082",
           "#4B0082",
           "#4B0082",
           "#4B0082",
           "#4B0082",
           "#4B0082",
           "#4B0082",
           "#4B0082",
           "#4B0082",
           "#4B0082",
           "#4B0082",
           "#4B0082",
           "#4B0082",
           "#4B0082",
           "#4B0082",
           "#4B0082",
           "#4B0082",
           "#FF33A6",
           "#FF33A6",
           "#FF33A6",
           "#FF33A6",
           "#FF33A6",
           "#FF33A6",
           "#FF33A6",
           "#FF33A6",
           "#FF33A6",
           "#FF33A6",
           "#FF33A6",
           "#FF33A6",
           "#FF33A6",
           "#FF33A6",
           "#FF33A6",
           "#FF33A6",
           "#FF33A6",
           "#FF33A6",
           "#FF33A6",
           "#FF33A6",
           "#FF33A6",
           "#FF33A6",
           "#FF33A6",
           "#FF33A6",
           "#FF33A6",
           "#FF33A6",
           "#FF33A6",
           "#FF33A6",
           "#FF33A6",
           "#FF33A6",
           "#FF33A6"
          ],
          "opacity": 0.7,
          "size": 3
         },
         "mode": "markers",
         "type": "scatter",
         "x": {
          "bdata": "w7G7wv0d4ULSrVPC44CRwljbt8FfEgTCgUqGPkre1EKWqJFB7vQRQbc+YkN3l1lBKjWywbzWqsHk82HDsrgnwuGw9kEuCRrCApaMwo1DvsHe1SHCNuaeQiWPtkHexW/CKofQvz9up8FHRZBCOmsswjNZksJ9rjpCTIJdQ2/fAEIiJENBngxcQaGYsMGUIRfBZ6dTQ7EMB0KPNqrAwKGcwnlzHULvVS3C4S5uQvo1HMNPVYfCBgNdw4q6cUNt7KPC93QnwoE/BcMrMijDpYQNw5W/wsLQuYzCKMI1w39fDsP3dCfC0I2NwlKS5cL7WPbCf18Ow3+FOcOc1tPCTUj4wnvUnsLD+pnBa4mowrhdAMMGWtPCi8khwxNYscJiy/XCDrJQQh8SaEPMuPPClrEGw5axBsPMuPPClrEGw8y488LMuPPCj+pLQ4/qS0NbOExDj+pLQ69r08IkNgRDyAgEwiTiTMKw1K9BtG6Owj1cEUOnmEHCrS2qwsnxL8Kmi7bCB8svwkzRwEAbqPDAG6jwwBuo8MCOS0hA5ThoQXQREsMc/y/DX5A0w0L9PsNC/T7DHP8vwyBYMsOheyfDHP8vw4i1RcNyJBxDtw8NQ3JSDENSCxhDo0wDQ7COh0LwuR1DJCwoQyQsKEPwuR1DEAYkQw48NENE7SxDn2lqwo35iMJKm5PCSpuTwkqbk8KN+YjCSpuTwkqbk8IBYsrB8i9uw0nZDENJ2QxDUgsYQ/ukIUM+fhJDciQcQ/ukIUNyJBxD+6QhQ3IkHENBHzlDQR85Q0EfOUNBHzlDQR85Q51xCcIDFwjCrK60wQiRxcGu1xDDl6QLw/iJHcOXpAvDMnsXw67XEMP4iR3DrtcQw1/zZUEdFbxBPK0nQztPlkLBmQjD44CRwuBpTEPGpe1B2qpZwtaEtUEKZznDX1R/wbNKDUNnPEBCSfdZQYFKhj6z//HCXseYwO70EUGCa6zC6CVUQS+FhEL0+8RCeG8pQtp4AMMkwQZDkvACQ192bUIKqhlDnZjwQtz/OUPQqJ1CRrkyQ1/2pMHVnxBDMf8Hwl164sAwsrZCd0d3QsDwycJ5V19D1qL8QRVYUUKNlptBuhcfQlAfaEKxInBC//v+QhnOSUOL+jtD2SM1Q/izmkLmMTFD2dBJQ6ktSEPxGOVCQ6k1Q5rcyELe5fdCF/qyQrD9qEKnkcxCduZNQ48yB0PUWn5D3zUfQyIQq0LDg/FC62E1QzZTzEJ6gRhDPoYVQ8+XKEPyxS1DYT44Q1hLKUMlawZDBdpEQ6/WssLCF81CP49PQycjOkMNyRdDdZ9RQ5BTpUIdqCFDmEfAQkdHE8OqAi3D2isfw0zl2MJu5SfDareXQpVhXcL8sUjBefLPwt2JSMKUKT7CBwMuwkUrAcOl6GrCHVrRwhpTS8NATPLC8CFIw4mtn0DCHALChuOxwiurv8KcytnCZEkXQvANTMKVOYBCQ61dwyXfskKdU5FC2NPQwgaQz8GrZfNCRJ+pQrx4XkMitMFCE1p6QrmqkcKfzsBCaAjgQoxwuEKDDIpC6o+lQn3okUIiDRbDSUAhw9aFDMOX0thCc9FJwoXNLMOJcGbDe+ASwynYfcIweqzCAkIcw5Ats8Jd1UvDbdHtwlaLMsMx1bnCo2QUwzoWocJD2C/DL0f+wUTfacKNFATDZv7kwjg/S0JWizLDQqCzwGkyG0JY789BgIKLwgcDLsLnefhCr+LAwPJhiMJaCt9CGcA+QkYrnsHEX9dCMFBmQgsLJUEXSAdDppndwf368sKRrwlDe4lewWVvBkJJuedCi/A7w4oUREDkCqXCvGhrQV/1pUJE32nCmENFwwe8lz+Ul3fCvG3mwY8j6MIRIODBLcoww0W4xkH0h8NA06kbQx+E/kL5UGnDNX7QQpSdI0NK/clC91gWQs3m+8K5hwjDpw+HQs3m+8Jw0DDDAIzpQocKF0IP7jdCmVMWQ8+iK0P8kHlBrHw/w8Oxu8LSx9VCrHw/w1XPQcNw1mrCR5FQwi9jYr/FEF/BgyoEQwVXdUObemBCFAxwQ3U7HkI/l0tD7n4yQtvei8FlwftCopseQwyd80FJRBnDAz+TQrOgiUI6PWTAHCkRQjS4TkJyfVJCNJHoQYYlC8OqV+RBK2a8QghxWsNFo2tDVu9BQciy40KALL7AU5Q/wXXYk8LGrRFDhEleQsW5pUL6j5bCKDkpQtW2RUL3A71CLr+2QUcQUEELHijCbc8BwsFn8EJvaFLDKaPDwm48EsPXtpxCoFYDw5tD3MKPIzXDDh4ow0rtIcM7O9PC8J91wiVIKMN5B0fDD6k4w5+/78LdThLDrUHZwvrb88LB1grDxPeHQKUPzMILwxzDrj5eQqb8SkB+0qlBqW8mw406OsN6Xj3DPgVUwcH/98KDsEJCw7G7wv0d4ULSrVPC44CRwljbt8FfEgTCgUqGPkre1EKWqJFBOtQZP7c+YkN3l1lBKjWywbzWqsHk82HDsrgnwuGw9kEuCRrCApaMwo1DvsHe1SHCNuaeQiWPtkHexW/CKofQvz9up8FHRZBCOmsswjNZksJ9rjpCTIJdQ2/fAEIiJENBngxcQaGYsMGUIRfBZ6dTQ7EMB0KPNqrAwKGcwnlzHULvVS3C4S5uQvo1HMNPVYfCBgNdw4q6cUNt7KPC93QnwoE/BcMrMijDpYQNw5W/wsLQuYzCKMI1w39fDsP3dCfC0I2NwlKS5cL7WPbCf18Owy3KMMOc1tPCTUj4wnvUnsLD+pnBa4mowrhdAMMGWtPCi8khwxNYscJiy/XCDrJQQh8SaEPMuPPClrEGw8y488LMuPPCzLjzwsy488LMuPPCWzhMQ4/qS0OP6ktDj+pLQ69r08IkNgRDyAgEwiTiTMKw1K9BtG6Owj1cEUOnmEHCrS2qwsnxL8Kmi7bCB8svwo5LSECOS0hAfbiTwEzRwEBM0cBAfbiTwHQREsMc/y/DHP8vwxz/L8Mc/y/DHP8vw34MPcMc/y/DHP8vw4i1RcM+fhJDUgsYQxWBF0OR7yFDFYEXQ7COh0LDpC5D1eI2QyQsKEPwuR1DxkklQ+gUG0PDpC5Dn2lqwkqbk8KfaWrCSEJfwo35iMKfaWrCn2lqwkqbk8IBYsrB8i9uwxWBF0NJ2QxDhgADQz5+EkNyJBxDPn4SQz5+EkNUOA5D+6QhQ/ukIUNBHzlDQR85Q0EfOUNBHzlDQR85Q51xCcKXUOLBAxcIwgMXCMKXpAvDMnsXwzJ7F8MyexfD+IkdwzJ7F8P4iR3D+Ikdw1/zZUEdFbxBPK0nQztPlkLBmQjD44CRwuBpTEPGpe1B2qpZwtaEtUEKZznDX1R/wbNKDUNnPEBCSfdZQYFKhj6z//HCXseYwDrUGT+Ca6zC6CVUQS+FhEL0+8RCeG8pQtp4AMMkwQZDkvACQ192bUIKqhlDnZjwQtz/OUPQqJ1CRrkyQ1/2pMHVnxBDMf8Hwl164sAwsrZCd0d3QsDwycJ5V19DdTseQhVYUUKNlptBuhcfQlAfaEKxInBC//v+QhnOSUOL+jtD2SM1Q/izmkLmMTFD2dBJQ6ktSEPxGOVCQ6k1Q5rcyELe5fdCF/qyQrD9qEKnkcxCduZNQ48yB0PUWn5D3zUfQyIQq0LDg/FC62E1QzZTzEJ6gRhDPoYVQ8+XKEPyxS1DYT44Q1hLKUMlawZDBdpEQ6/WssLCF81CP49PQycjOkMNyRdDdZ9RQ5BTpUIdqCFDmEfAQkdHE8OqAi3D2isfw0zl2MJu5SfDareXQpVhXcL8sUjBefLPwt2JSMKUKT7CBwMuwkUrAcOl6GrCHVrRwhpTS8NATPLC8CFIw4mtn0DCHALChuOxwiurv8KcytnCZEkXQvANTMKVOYBCQ61dwyXfskKdU5FC2NPQwgaQz8GrZfNCRJ+pQrx4XkMitMFCE1p6QrmqkcKfzsBCaAjgQoxwuEKDDIpC6o+lQn3okUIiDRbDSUAhw9aFDMOX0thCc9FJwoXNLMOJcGbDe+ASwynYfcIweqzCAkIcw5Ats8Jd1UvDyezYwrpKPMMx1bnCo2QUwzoWocJD2C/DL0f+wUTfacKNFATDPbPhwjg/S0LrQDTDQqCzwGkyG0JY789BgIKLwgcDLsLnefhCr+LAwPJhiMJaCt9CGcA+QkYrnsHEX9dCMFBmQgsLJUEXSAdDppndwf368sKRrwlDe4lewWVvBkJJuedCVosyw4oUREDkCqXCvGhrQV/1pUJE32nCmENFwwe8lz+Ul3fCvG3mwY8j6MIRIODBf4U5w0W4xkH0h8NA06kbQx+E/kL5UGnDNX7QQpSdI0NK/clC91gWQuvK68K5hwjDpw+HQuvK68Jw0DDDAIzpQocKF0IP7jdCmVMWQ8+iK0P8kHlBrHw/w8Oxu8LSx9VCrHw/w1XPQcNw1mrCR5FQwi9jYr/FEF/BgyoEQwVXdUObemBCFAxwQ9ai/EE/l0tD7n4yQtvei8FlwftCopseQwyd80FJRBnDAz+TQrOgiUI6PWTAHCkRQjS4TkJyfVJCNJHoQYYlC8OqV+RBK2a8QghxWsNFo2tDVu9BQciy40KALL7AU5Q/wXXYk8LGrRFDhEleQsW5pUL6j5bCKDkpQtW2RUL3A71CLr+2QUcQUEELHijCbc8BwsFn8EJvaFLDKaPDwm48EsPXtpxCoFYDw5tD3MKPIzXDDh4ow0rtIcM7O9PC8J91wiVIKMN5B0fDD6k4w5+/78LdThLDrUHZwvrb88LB1grDxPeHQKUPzMILwxzDrj5eQqb8SkB+0qlBqW8mw406OsN6Xj3DPgVUwcH/98KDsEJC",
          "dtype": "f4"
         },
         "y": {
          "bdata": "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",
          "dtype": "f4"
         }
        }
       ],
       "layout": {
        "height": 800,
        "margin": {
         "b": 10,
         "l": 10,
         "r": 20,
         "t": 40
        },
        "scene": {
         "xaxis": {
          "title": {
           "text": "x"
          }
         },
         "yaxis": {
          "title": {
           "text": "y"
          }
         }
        },
        "template": {
         "data": {
          "bar": [
           {
            "error_x": {
             "color": "#2a3f5f"
            },
            "error_y": {
             "color": "#2a3f5f"
            },
            "marker": {
             "line": {
              "color": "#E5ECF6",
              "width": 0.5
             },
             "pattern": {
              "fillmode": "overlay",
              "size": 10,
              "solidity": 0.2
             }
            },
            "type": "bar"
           }
          ],
          "barpolar": [
           {
            "marker": {
             "line": {
              "color": "#E5ECF6",
              "width": 0.5
             },
             "pattern": {
              "fillmode": "overlay",
              "size": 10,
              "solidity": 0.2
             }
            },
            "type": "barpolar"
           }
          ],
          "carpet": [
           {
            "aaxis": {
             "endlinecolor": "#2a3f5f",
             "gridcolor": "white",
             "linecolor": "white",
             "minorgridcolor": "white",
             "startlinecolor": "#2a3f5f"
            },
            "baxis": {
             "endlinecolor": "#2a3f5f",
             "gridcolor": "white",
             "linecolor": "white",
             "minorgridcolor": "white",
             "startlinecolor": "#2a3f5f"
            },
            "type": "carpet"
           }
          ],
          "choropleth": [
           {
            "colorbar": {
             "outlinewidth": 0,
             "ticks": ""
            },
            "type": "choropleth"
           }
          ],
          "contour": [
           {
            "colorbar": {
             "outlinewidth": 0,
             "ticks": ""
            },
            "colorscale": [
             [
              0,
              "#0d0887"
             ],
             [
              0.1111111111111111,
              "#46039f"
             ],
             [
              0.2222222222222222,
              "#7201a8"
             ],
             [
              0.3333333333333333,
              "#9c179e"
             ],
             [
              0.4444444444444444,
              "#bd3786"
             ],
             [
              0.5555555555555556,
              "#d8576b"
             ],
             [
              0.6666666666666666,
              "#ed7953"
             ],
             [
              0.7777777777777778,
              "#fb9f3a"
             ],
             [
              0.8888888888888888,
              "#fdca26"
             ],
             [
              1,
              "#f0f921"
             ]
            ],
            "type": "contour"
           }
          ],
          "contourcarpet": [
           {
            "colorbar": {
             "outlinewidth": 0,
             "ticks": ""
            },
            "type": "contourcarpet"
           }
          ],
          "heatmap": [
           {
            "colorbar": {
             "outlinewidth": 0,
             "ticks": ""
            },
            "colorscale": [
             [
              0,
              "#0d0887"
             ],
             [
              0.1111111111111111,
              "#46039f"
             ],
             [
              0.2222222222222222,
              "#7201a8"
             ],
             [
              0.3333333333333333,
              "#9c179e"
             ],
             [
              0.4444444444444444,
              "#bd3786"
             ],
             [
              0.5555555555555556,
              "#d8576b"
             ],
             [
              0.6666666666666666,
              "#ed7953"
             ],
             [
              0.7777777777777778,
              "#fb9f3a"
             ],
             [
              0.8888888888888888,
              "#fdca26"
             ],
             [
              1,
              "#f0f921"
             ]
            ],
            "type": "heatmap"
           }
          ],
          "histogram": [
           {
            "marker": {
             "pattern": {
              "fillmode": "overlay",
              "size": 10,
              "solidity": 0.2
             }
            },
            "type": "histogram"
           }
          ],
          "histogram2d": [
           {
            "colorbar": {
             "outlinewidth": 0,
             "ticks": ""
            },
            "colorscale": [
             [
              0,
              "#0d0887"
             ],
             [
              0.1111111111111111,
              "#46039f"
             ],
             [
              0.2222222222222222,
              "#7201a8"
             ],
             [
              0.3333333333333333,
              "#9c179e"
             ],
             [
              0.4444444444444444,
              "#bd3786"
             ],
             [
              0.5555555555555556,
              "#d8576b"
             ],
             [
              0.6666666666666666,
              "#ed7953"
             ],
             [
              0.7777777777777778,
              "#fb9f3a"
             ],
             [
              0.8888888888888888,
              "#fdca26"
             ],
             [
              1,
              "#f0f921"
             ]
            ],
            "type": "histogram2d"
           }
          ],
          "histogram2dcontour": [
           {
            "colorbar": {
             "outlinewidth": 0,
             "ticks": ""
            },
            "colorscale": [
             [
              0,
              "#0d0887"
             ],
             [
              0.1111111111111111,
              "#46039f"
             ],
             [
              0.2222222222222222,
              "#7201a8"
             ],
             [
              0.3333333333333333,
              "#9c179e"
             ],
             [
              0.4444444444444444,
              "#bd3786"
             ],
             [
              0.5555555555555556,
              "#d8576b"
             ],
             [
              0.6666666666666666,
              "#ed7953"
             ],
             [
              0.7777777777777778,
              "#fb9f3a"
             ],
             [
              0.8888888888888888,
              "#fdca26"
             ],
             [
              1,
              "#f0f921"
             ]
            ],
            "type": "histogram2dcontour"
           }
          ],
          "mesh3d": [
           {
            "colorbar": {
             "outlinewidth": 0,
             "ticks": ""
            },
            "type": "mesh3d"
           }
          ],
          "parcoords": [
           {
            "line": {
             "colorbar": {
              "outlinewidth": 0,
              "ticks": ""
             }
            },
            "type": "parcoords"
           }
          ],
          "pie": [
           {
            "automargin": true,
            "type": "pie"
           }
          ],
          "scatter": [
           {
            "fillpattern": {
             "fillmode": "overlay",
             "size": 10,
             "solidity": 0.2
            },
            "type": "scatter"
           }
          ],
          "scatter3d": [
           {
            "line": {
             "colorbar": {
              "outlinewidth": 0,
              "ticks": ""
             }
            },
            "marker": {
             "colorbar": {
              "outlinewidth": 0,
              "ticks": ""
             }
            },
            "type": "scatter3d"
           }
          ],
          "scattercarpet": [
           {
            "marker": {
             "colorbar": {
              "outlinewidth": 0,
              "ticks": ""
             }
            },
            "type": "scattercarpet"
           }
          ],
          "scattergeo": [
           {
            "marker": {
             "colorbar": {
              "outlinewidth": 0,
              "ticks": ""
             }
            },
            "type": "scattergeo"
           }
          ],
          "scattergl": [
           {
            "marker": {
             "colorbar": {
              "outlinewidth": 0,
              "ticks": ""
             }
            },
            "type": "scattergl"
           }
          ],
          "scattermap": [
           {
            "marker": {
             "colorbar": {
              "outlinewidth": 0,
              "ticks": ""
             }
            },
            "type": "scattermap"
           }
          ],
          "scattermapbox": [
           {
            "marker": {
             "colorbar": {
              "outlinewidth": 0,
              "ticks": ""
             }
            },
            "type": "scattermapbox"
           }
          ],
          "scatterpolar": [
           {
            "marker": {
             "colorbar": {
              "outlinewidth": 0,
              "ticks": ""
             }
            },
            "type": "scatterpolar"
           }
          ],
          "scatterpolargl": [
           {
            "marker": {
             "colorbar": {
              "outlinewidth": 0,
              "ticks": ""
             }
            },
            "type": "scatterpolargl"
           }
          ],
          "scatterternary": [
           {
            "marker": {
             "colorbar": {
              "outlinewidth": 0,
              "ticks": ""
             }
            },
            "type": "scatterternary"
           }
          ],
          "surface": [
           {
            "colorbar": {
             "outlinewidth": 0,
             "ticks": ""
            },
            "colorscale": [
             [
              0,
              "#0d0887"
             ],
             [
              0.1111111111111111,
              "#46039f"
             ],
             [
              0.2222222222222222,
              "#7201a8"
             ],
             [
              0.3333333333333333,
              "#9c179e"
             ],
             [
              0.4444444444444444,
              "#bd3786"
             ],
             [
              0.5555555555555556,
              "#d8576b"
             ],
             [
              0.6666666666666666,
              "#ed7953"
             ],
             [
              0.7777777777777778,
              "#fb9f3a"
             ],
             [
              0.8888888888888888,
              "#fdca26"
             ],
             [
              1,
              "#f0f921"
             ]
            ],
            "type": "surface"
           }
          ],
          "table": [
           {
            "cells": {
             "fill": {
              "color": "#EBF0F8"
             },
             "line": {
              "color": "white"
             }
            },
            "header": {
             "fill": {
              "color": "#C8D4E3"
             },
             "line": {
              "color": "white"
             }
            },
            "type": "table"
           }
          ]
         },
         "layout": {
          "annotationdefaults": {
           "arrowcolor": "#2a3f5f",
           "arrowhead": 0,
           "arrowwidth": 1
          },
          "autotypenumbers": "strict",
          "coloraxis": {
           "colorbar": {
            "outlinewidth": 0,
            "ticks": ""
           }
          },
          "colorscale": {
           "diverging": [
            [
             0,
             "#8e0152"
            ],
            [
             0.1,
             "#c51b7d"
            ],
            [
             0.2,
             "#de77ae"
            ],
            [
             0.3,
             "#f1b6da"
            ],
            [
             0.4,
             "#fde0ef"
            ],
            [
             0.5,
             "#f7f7f7"
            ],
            [
             0.6,
             "#e6f5d0"
            ],
            [
             0.7,
             "#b8e186"
            ],
            [
             0.8,
             "#7fbc41"
            ],
            [
             0.9,
             "#4d9221"
            ],
            [
             1,
             "#276419"
            ]
           ],
           "sequential": [
            [
             0,
             "#0d0887"
            ],
            [
             0.1111111111111111,
             "#46039f"
            ],
            [
             0.2222222222222222,
             "#7201a8"
            ],
            [
             0.3333333333333333,
             "#9c179e"
            ],
            [
             0.4444444444444444,
             "#bd3786"
            ],
            [
             0.5555555555555556,
             "#d8576b"
            ],
            [
             0.6666666666666666,
             "#ed7953"
            ],
            [
             0.7777777777777778,
             "#fb9f3a"
            ],
            [
             0.8888888888888888,
             "#fdca26"
            ],
            [
             1,
             "#f0f921"
            ]
           ],
           "sequentialminus": [
            [
             0,
             "#0d0887"
            ],
            [
             0.1111111111111111,
             "#46039f"
            ],
            [
             0.2222222222222222,
             "#7201a8"
            ],
            [
             0.3333333333333333,
             "#9c179e"
            ],
            [
             0.4444444444444444,
             "#bd3786"
            ],
            [
             0.5555555555555556,
             "#d8576b"
            ],
            [
             0.6666666666666666,
             "#ed7953"
            ],
            [
             0.7777777777777778,
             "#fb9f3a"
            ],
            [
             0.8888888888888888,
             "#fdca26"
            ],
            [
             1,
             "#f0f921"
            ]
           ]
          },
          "colorway": [
           "#636efa",
           "#EF553B",
           "#00cc96",
           "#ab63fa",
           "#FFA15A",
           "#19d3f3",
           "#FF6692",
           "#B6E880",
           "#FF97FF",
           "#FECB52"
          ],
          "font": {
           "color": "#2a3f5f"
          },
          "geo": {
           "bgcolor": "white",
           "lakecolor": "white",
           "landcolor": "#E5ECF6",
           "showlakes": true,
           "showland": true,
           "subunitcolor": "white"
          },
          "hoverlabel": {
           "align": "left"
          },
          "hovermode": "closest",
          "mapbox": {
           "style": "light"
          },
          "paper_bgcolor": "white",
          "plot_bgcolor": "#E5ECF6",
          "polar": {
           "angularaxis": {
            "gridcolor": "white",
            "linecolor": "white",
            "ticks": ""
           },
           "bgcolor": "#E5ECF6",
           "radialaxis": {
            "gridcolor": "white",
            "linecolor": "white",
            "ticks": ""
           }
          },
          "scene": {
           "xaxis": {
            "backgroundcolor": "#E5ECF6",
            "gridcolor": "white",
            "gridwidth": 2,
            "linecolor": "white",
            "showbackground": true,
            "ticks": "",
            "zerolinecolor": "white"
           },
           "yaxis": {
            "backgroundcolor": "#E5ECF6",
            "gridcolor": "white",
            "gridwidth": 2,
            "linecolor": "white",
            "showbackground": true,
            "ticks": "",
            "zerolinecolor": "white"
           },
           "zaxis": {
            "backgroundcolor": "#E5ECF6",
            "gridcolor": "white",
            "gridwidth": 2,
            "linecolor": "white",
            "showbackground": true,
            "ticks": "",
            "zerolinecolor": "white"
           }
          },
          "shapedefaults": {
           "line": {
            "color": "#2a3f5f"
           }
          },
          "ternary": {
           "aaxis": {
            "gridcolor": "white",
            "linecolor": "white",
            "ticks": ""
           },
           "baxis": {
            "gridcolor": "white",
            "linecolor": "white",
            "ticks": ""
           },
           "bgcolor": "#E5ECF6",
           "caxis": {
            "gridcolor": "white",
            "linecolor": "white",
            "ticks": ""
           }
          },
          "title": {
           "x": 0.05
          },
          "xaxis": {
           "automargin": true,
           "gridcolor": "white",
           "linecolor": "white",
           "ticks": "",
           "title": {
            "standoff": 15
           },
           "zerolinecolor": "white",
           "zerolinewidth": 2
          },
          "yaxis": {
           "automargin": true,
           "gridcolor": "white",
           "linecolor": "white",
           "ticks": "",
           "title": {
            "standoff": 15
           },
           "zerolinecolor": "white",
           "zerolinewidth": 2
          }
         }
        },
        "title": {
         "text": "2D Chroma Vectorstore Visualization"
        },
        "width": 1200
       }
      }
     },
     "metadata": {},
     "output_type": "display_data"
    }
   ],
   "source": [
    "# Create the 2D scatter plot\n",
    "fig = go.Figure(data=[go.Scatter(\n",
    "    x=reduced_vectors[:, 0],\n",
    "    y=reduced_vectors[:, 1],\n",
    "    mode='markers',\n",
    "    marker=dict(size=3, color=colors, opacity=0.7),\n",
    ")])\n",
    "\n",
    "fig.update_layout(\n",
    "    title='2D Chroma Vectorstore Visualization',\n",
    "    scene=dict(xaxis_title='x', yaxis_title='y'),\n",
    "    width=1200,\n",
    "    height=800,\n",
    "    margin=dict(r=20, b=10, l=10, t=40)\n",
    ")\n",
    "\n",
    "fig.show()"
   ]
  },
  {
   "cell_type": "code",
   "execution_count": 80,
   "metadata": {},
   "outputs": [],
   "source": [
    "# Let's try a 3D chart\n",
    "\n",
    "tsne = TSNE(n_components=3, random_state=42, n_jobs=-1)\n",
    "reduced_vectors = tsne.fit_transform(vectors)"
   ]
  },
  {
   "cell_type": "code",
   "execution_count": 81,
   "metadata": {},
   "outputs": [
    {
     "data": {
      "application/vnd.plotly.v1+json": {
       "config": {
        "plotlyServerURL": "https://plot.ly"
       },
       "data": [
        {
         "marker": {
          "color": [
           "#3357FF",
           "#3357FF",
           "#3357FF",
           "#33FF57",
           "#33FF57",
           "#33FF57",
           "#33FF57",
           "#33FF57",
           "#33FF57",
           "#33FF57",
           "#33FF57",
           "#33FF57",
           "#33FF57",
           "#33FF57",
           "#33FF57",
           "#33FF57",
           "#33FF57",
           "#33FF57",
           "#33FF57",
           "#33FF57",
           "#33FF57",
           "#33FF57",
           "#33FF57",
           "#33FF57",
           "#33FF57",
           "#33FF57",
           "#33FF57",
           "#33FF57",
           "#33FF57",
           "#33FF57",
           "#33FF57",
           "#33FF57",
           "#33FF57",
           "#33FF57",
           "#33FF57",
           "#33FF57",
           "#33FF57",
           "#33FF57",
           "#33FF57",
           "#33FF57",
           "#33FF57",
           "#33FF57",
           "#33FF57",
           "#A52A2A",
           "#A52A2A",
           "#A52A2A",
           "#A52A2A",
           "#A52A2A",
           "#A52A2A",
           "#A52A2A",
           "#A52A2A",
           "#A52A2A",
           "#A52A2A",
           "#A52A2A",
           "#A52A2A",
           "#A52A2A",
           "#A52A2A",
           "#A52A2A",
           "#A52A2A",
           "#A52A2A",
           "#A52A2A",
           "#A52A2A",
           "#A52A2A",
           "#A52A2A",
           "#A52A2A",
           "#FF33A6",
           "#FF33A6",
           "#4B0082",
           "#4B0082",
           "#4B0082",
           "#4B0082",
           "#4B0082",
           "#1E90FF",
           "#FF5733",
           "#FF1493",
           "#FF1493",
           "#FF1493",
           "#4B0082",
           "#FF1493",
           "#FF1493",
           "#4B0082",
           "#FF1493",
           "#1E90FF",
           "#FF1493",
           "#FF1493",
           "#FF5733",
           "#FF5733",
           "#FF5733",
           "#FF5733",
           "#FF5733",
           "#FF5733",
           "#FF5733",
           "#FF5733",
           "#FF33A6",
           "#FF5733",
           "#FF1493",
           "#4B0082",
           "#FF1493",
           "#FF1493",
           "#FF1493",
           "#FF1493",
           "#FF1493",
           "#FF1493",
           "#FF5733",
           "#FF33A6",
           "#FF1493",
           "#FF1493",
           "#FF1493",
           "#FF1493",
           "#FF1493",
           "#FF33A6",
           "#FF1493",
           "#FF5733",
           "#4B0082",
           "#4B0082",
           "#FF1493",
           "#FF1493",
           "#FF1493",
           "#1E90FF",
           "#FF1493",
           "#FF1493",
           "#FF1493",
           "#FF1493",
           "#FF1493",
           "#FF1493",
           "#FF1493",
           "#FF1493",
           "#FF1493",
           "#FF33A6",
           "#FF33A6",
           "#FF1493",
           "#FF1493",
           "#FF1493",
           "#FF1493",
           "#FF33A6",
           "#FF1493",
           "#FF1493",
           "#4B0082",
           "#FF1493",
           "#FF1493",
           "#FF1493",
           "#4B0082",
           "#FF1493",
           "#FF1493",
           "#FF1493",
           "#FF1493",
           "#FF1493",
           "#FF1493",
           "#FF1493",
           "#FF1493",
           "#FF1493",
           "#FF1493",
           "#FF1493",
           "#FF1493",
           "#FF1493",
           "#FF1493",
           "#FF1493",
           "#FF1493",
           "#FF1493",
           "#FF1493",
           "#FF1493",
           "#FF33A6",
           "#FF33A6",
           "#FF5733",
           "#FF1493",
           "#D2691E",
           "#D2691E",
           "#D2691E",
           "#D2691E",
           "#D2691E",
           "#D2691E",
           "#D2691E",
           "#D2691E",
           "#D2691E",
           "#D2691E",
           "#D2691E",
           "#D2691E",
           "#D2691E",
           "#D2691E",
           "#D2691E",
           "#D2691E",
           "#D2691E",
           "#D2691E",
           "#D2691E",
           "#D2691E",
           "#D2691E",
           "#D2691E",
           "#D2691E",
           "#D2691E",
           "#D2691E",
           "#D2691E",
           "#D2691E",
           "#D2691E",
           "#D2691E",
           "#D2691E",
           "#D2691E",
           "#D2691E",
           "#D2691E",
           "#D2691E",
           "#D2691E",
           "#D2691E",
           "#D2691E",
           "#D2691E",
           "#D2691E",
           "#D2691E",
           "#1E90FF",
           "#1E90FF",
           "#1E90FF",
           "#1E90FF",
           "#1E90FF",
           "#2F4F4F",
           "#2F4F4F",
           "#2F4F4F",
           "#2F4F4F",
           "#2F4F4F",
           "#2F4F4F",
           "#2F4F4F",
           "#2F4F4F",
           "#2F4F4F",
           "#2F4F4F",
           "#2F4F4F",
           "#2F4F4F",
           "#2F4F4F",
           "#2F4F4F",
           "#2F4F4F",
           "#2F4F4F",
           "#2F4F4F",
           "#2F4F4F",
           "#2F4F4F",
           "#2F4F4F",
           "#2F4F4F",
           "#2F4F4F",
           "#2F4F4F",
           "#2F4F4F",
           "#2F4F4F",
           "#2F4F4F",
           "#2F4F4F",
           "#2F4F4F",
           "#2F4F4F",
           "#2F4F4F",
           "#2F4F4F",
           "#2F4F4F",
           "#2F4F4F",
           "#2F4F4F",
           "#2F4F4F",
           "#2F4F4F",
           "#2F4F4F",
           "#2F4F4F",
           "#2F4F4F",
           "#2F4F4F",
           "#20B2AA",
           "#20B2AA",
           "#20B2AA",
           "#20B2AA",
           "#20B2AA",
           "#800080",
           "#800080",
           "#800080",
           "#800080",
           "#800080",
           "#800080",
           "#800080",
           "#800080",
           "#800080",
           "#800080",
           "#800080",
           "#800080",
           "#800080",
           "#800080",
           "#800080",
           "#D2691E",
           "#D2691E",
           "#D2691E",
           "#D2691E",
           "#D2691E",
           "#D2691E",
           "#D2691E",
           "#D2691E",
           "#008080",
           "#008080",
           "#008080",
           "#008080",
           "#008080",
           "#008080",
           "#008080",
           "#008080",
           "#3357FF",
           "#3357FF",
           "#3357FF",
           "#3357FF",
           "#3357FF",
           "#3357FF",
           "#3357FF",
           "#3357FF",
           "#FF6347",
           "#FF6347",
           "#FF6347",
           "#FF5733",
           "#FF5733",
           "#FF5733",
           "#FF5733",
           "#FF5733",
           "#FF5733",
           "#FF5733",
           "#FF5733",
           "#FF5733",
           "#008080",
           "#008080",
           "#008080",
           "#008080",
           "#008080",
           "#008080",
           "#008080",
           "#008080",
           "#008080",
           "#008080",
           "#008080",
           "#008080",
           "#008080",
           "#008080",
           "#008080",
           "#008080",
           "#008080",
           "#008080",
           "#008080",
           "#008080",
           "#008080",
           "#008080",
           "#008080",
           "#008080",
           "#008080",
           "#008080",
           "#008080",
           "#008080",
           "#008080",
           "#008080",
           "#008080",
           "#008080",
           "#008080",
           "#008080",
           "#008080",
           "#008080",
           "#008080",
           "#008080",
           "#008080",
           "#008080",
           "#008080",
           "#008080",
           "#D2691E",
           "#D2691E",
           "#D2691E",
           "#D2691E",
           "#D2691E",
           "#D2691E",
           "#D2691E",
           "#D2691E",
           "#D2691E",
           "#D2691E",
           "#D2691E",
           "#D2691E",
           "#D2691E",
           "#D2691E",
           "#D2691E",
           "#D2691E",
           "#D2691E",
           "#D2691E",
           "#D2691E",
           "#D2691E",
           "#D2691E",
           "#D2691E",
           "#D2691E",
           "#D2691E",
           "#D2691E",
           "#D2691E",
           "#D2691E",
           "#D2691E",
           "#D2691E",
           "#D2691E",
           "#D2691E",
           "#D2691E",
           "#D2691E",
           "#D2691E",
           "#4B0082",
           "#4B0082",
           "#4B0082",
           "#4B0082",
           "#4B0082",
           "#4B0082",
           "#4B0082",
           "#4B0082",
           "#4B0082",
           "#4B0082",
           "#4B0082",
           "#4B0082",
           "#4B0082",
           "#4B0082",
           "#4B0082",
           "#4B0082",
           "#4B0082",
           "#4B0082",
           "#4B0082",
           "#4B0082",
           "#4B0082",
           "#4B0082",
           "#4B0082",
           "#4B0082",
           "#4B0082",
           "#4B0082",
           "#4B0082",
           "#4B0082",
           "#4B0082",
           "#4B0082",
           "#4B0082",
           "#4B0082",
           "#4B0082",
           "#4B0082",
           "#4B0082",
           "#4B0082",
           "#4B0082",
           "#4B0082",
           "#4B0082",
           "#4B0082",
           "#FFD700",
           "#FFD700",
           "#FFD700",
           "#FFD700",
           "#FFD700",
           "#FFD700",
           "#FFD700",
           "#FFD700",
           "#FFD700",
           "#FFD700",
           "#FFD700",
           "#FFD700",
           "#FFD700",
           "#FFD700",
           "#FFD700",
           "#FFD700",
           "#FFD700",
           "#FFD700",
           "#FFD700",
           "#FFD700",
           "#FFD700",
           "#FFD700",
           "#FFD700",
           "#FFD700",
           "#FFD700",
           "#FFD700",
           "#FFD700",
           "#FFD700",
           "#FFD700",
           "#FFD700",
           "#FFD700",
           "#3357FF",
           "#3357FF",
           "#3357FF",
           "#33FF57",
           "#33FF57",
           "#33FF57",
           "#33FF57",
           "#33FF57",
           "#33FF57",
           "#33FF57",
           "#33FF57",
           "#33FF57",
           "#33FF57",
           "#33FF57",
           "#33FF57",
           "#33FF57",
           "#33FF57",
           "#33FF57",
           "#33FF57",
           "#33FF57",
           "#33FF57",
           "#33FF57",
           "#33FF57",
           "#33FF57",
           "#33FF57",
           "#33FF57",
           "#33FF57",
           "#33FF57",
           "#33FF57",
           "#33FF57",
           "#33FF57",
           "#33FF57",
           "#33FF57",
           "#33FF57",
           "#33FF57",
           "#33FF57",
           "#33FF57",
           "#33FF57",
           "#33FF57",
           "#33FF57",
           "#33FF57",
           "#33FF57",
           "#33FF57",
           "#A52A2A",
           "#A52A2A",
           "#A52A2A",
           "#A52A2A",
           "#A52A2A",
           "#A52A2A",
           "#A52A2A",
           "#A52A2A",
           "#A52A2A",
           "#A52A2A",
           "#A52A2A",
           "#A52A2A",
           "#A52A2A",
           "#A52A2A",
           "#A52A2A",
           "#A52A2A",
           "#A52A2A",
           "#A52A2A",
           "#A52A2A",
           "#A52A2A",
           "#A52A2A",
           "#A52A2A",
           "#FF33A6",
           "#FF33A6",
           "#4B0082",
           "#4B0082",
           "#4B0082",
           "#4B0082",
           "#4B0082",
           "#1E90FF",
           "#FF5733",
           "#FF1493",
           "#FF1493",
           "#FF1493",
           "#4B0082",
           "#FF1493",
           "#FF1493",
           "#4B0082",
           "#FF1493",
           "#1E90FF",
           "#FF1493",
           "#FF1493",
           "#FF5733",
           "#FF5733",
           "#FF5733",
           "#FF5733",
           "#FF5733",
           "#FF5733",
           "#FF5733",
           "#FF5733",
           "#FF33A6",
           "#FF5733",
           "#FF1493",
           "#4B0082",
           "#FF1493",
           "#FF1493",
           "#FF1493",
           "#FF1493",
           "#FF1493",
           "#FF1493",
           "#FF5733",
           "#FF33A6",
           "#FF1493",
           "#FF1493",
           "#FF1493",
           "#FF1493",
           "#FF1493",
           "#FF33A6",
           "#FF1493",
           "#FF5733",
           "#4B0082",
           "#4B0082",
           "#FF1493",
           "#FF1493",
           "#FF1493",
           "#1E90FF",
           "#FF1493",
           "#FF1493",
           "#FF1493",
           "#FF1493",
           "#FF1493",
           "#FF1493",
           "#FF1493",
           "#FF1493",
           "#FF1493",
           "#FF33A6",
           "#FF33A6",
           "#FF1493",
           "#FF1493",
           "#FF1493",
           "#FF1493",
           "#FF33A6",
           "#FF1493",
           "#FF1493",
           "#4B0082",
           "#FF1493",
           "#FF1493",
           "#FF1493",
           "#4B0082",
           "#FF1493",
           "#FF1493",
           "#FF1493",
           "#FF1493",
           "#FF1493",
           "#FF1493",
           "#FF1493",
           "#FF1493",
           "#FF1493",
           "#FF1493",
           "#FF1493",
           "#FF1493",
           "#FF1493",
           "#FF1493",
           "#FF1493",
           "#FF1493",
           "#FF1493",
           "#FF1493",
           "#FF1493",
           "#FF33A6",
           "#FF33A6",
           "#FF5733",
           "#FF1493",
           "#D2691E",
           "#D2691E",
           "#D2691E",
           "#D2691E",
           "#D2691E",
           "#D2691E",
           "#D2691E",
           "#D2691E",
           "#D2691E",
           "#D2691E",
           "#D2691E",
           "#D2691E",
           "#D2691E",
           "#D2691E",
           "#D2691E",
           "#D2691E",
           "#D2691E",
           "#D2691E",
           "#D2691E",
           "#D2691E",
           "#D2691E",
           "#D2691E",
           "#D2691E",
           "#D2691E",
           "#D2691E",
           "#D2691E",
           "#D2691E",
           "#D2691E",
           "#D2691E",
           "#D2691E",
           "#D2691E",
           "#D2691E",
           "#D2691E",
           "#D2691E",
           "#D2691E",
           "#D2691E",
           "#D2691E",
           "#D2691E",
           "#D2691E",
           "#D2691E",
           "#1E90FF",
           "#1E90FF",
           "#1E90FF",
           "#1E90FF",
           "#1E90FF",
           "#2F4F4F",
           "#2F4F4F",
           "#2F4F4F",
           "#2F4F4F",
           "#2F4F4F",
           "#2F4F4F",
           "#2F4F4F",
           "#2F4F4F",
           "#2F4F4F",
           "#2F4F4F",
           "#2F4F4F",
           "#2F4F4F",
           "#2F4F4F",
           "#2F4F4F",
           "#2F4F4F",
           "#2F4F4F",
           "#2F4F4F",
           "#2F4F4F",
           "#2F4F4F",
           "#2F4F4F",
           "#2F4F4F",
           "#2F4F4F",
           "#2F4F4F",
           "#2F4F4F",
           "#2F4F4F",
           "#2F4F4F",
           "#2F4F4F",
           "#2F4F4F",
           "#2F4F4F",
           "#2F4F4F",
           "#2F4F4F",
           "#2F4F4F",
           "#2F4F4F",
           "#2F4F4F",
           "#2F4F4F",
           "#2F4F4F",
           "#2F4F4F",
           "#2F4F4F",
           "#2F4F4F",
           "#2F4F4F",
           "#20B2AA",
           "#20B2AA",
           "#20B2AA",
           "#20B2AA",
           "#20B2AA",
           "#800080",
           "#800080",
           "#800080",
           "#800080",
           "#800080",
           "#800080",
           "#800080",
           "#800080",
           "#800080",
           "#800080",
           "#800080",
           "#800080",
           "#800080",
           "#800080",
           "#800080",
           "#D2691E",
           "#D2691E",
           "#D2691E",
           "#D2691E",
           "#D2691E",
           "#D2691E",
           "#D2691E",
           "#D2691E",
           "#008080",
           "#008080",
           "#008080",
           "#008080",
           "#008080",
           "#008080",
           "#008080",
           "#008080",
           "#3357FF",
           "#3357FF",
           "#3357FF",
           "#3357FF",
           "#3357FF",
           "#3357FF",
           "#3357FF",
           "#3357FF",
           "#FF6347",
           "#FF6347",
           "#FF6347",
           "#FF5733",
           "#FF5733",
           "#FF5733",
           "#FF5733",
           "#FF5733",
           "#FF5733",
           "#FF5733",
           "#FF5733",
           "#FF5733",
           "#008080",
           "#008080",
           "#008080",
           "#008080",
           "#008080",
           "#008080",
           "#008080",
           "#008080",
           "#008080",
           "#008080",
           "#008080",
           "#008080",
           "#008080",
           "#008080",
           "#008080",
           "#008080",
           "#008080",
           "#008080",
           "#008080",
           "#008080",
           "#008080",
           "#008080",
           "#008080",
           "#008080",
           "#008080",
           "#008080",
           "#008080",
           "#008080",
           "#008080",
           "#008080",
           "#008080",
           "#008080",
           "#008080",
           "#008080",
           "#008080",
           "#008080",
           "#008080",
           "#008080",
           "#008080",
           "#008080",
           "#008080",
           "#008080",
           "#D2691E",
           "#D2691E",
           "#D2691E",
           "#D2691E",
           "#D2691E",
           "#D2691E",
           "#D2691E",
           "#D2691E",
           "#D2691E",
           "#D2691E",
           "#D2691E",
           "#D2691E",
           "#D2691E",
           "#D2691E",
           "#D2691E",
           "#D2691E",
           "#D2691E",
           "#D2691E",
           "#D2691E",
           "#D2691E",
           "#D2691E",
           "#D2691E",
           "#D2691E",
           "#D2691E",
           "#D2691E",
           "#D2691E",
           "#D2691E",
           "#D2691E",
           "#D2691E",
           "#D2691E",
           "#D2691E",
           "#D2691E",
           "#D2691E",
           "#D2691E",
           "#4B0082",
           "#4B0082",
           "#4B0082",
           "#4B0082",
           "#4B0082",
           "#4B0082",
           "#4B0082",
           "#4B0082",
           "#4B0082",
           "#4B0082",
           "#4B0082",
           "#4B0082",
           "#4B0082",
           "#4B0082",
           "#4B0082",
           "#4B0082",
           "#4B0082",
           "#4B0082",
           "#4B0082",
           "#4B0082",
           "#4B0082",
           "#4B0082",
           "#4B0082",
           "#4B0082",
           "#4B0082",
           "#4B0082",
           "#4B0082",
           "#4B0082",
           "#4B0082",
           "#4B0082",
           "#4B0082",
           "#4B0082",
           "#4B0082",
           "#4B0082",
           "#4B0082",
           "#4B0082",
           "#4B0082",
           "#4B0082",
           "#4B0082",
           "#4B0082",
           "#FF33A6",
           "#FF33A6",
           "#FF33A6",
           "#FF33A6",
           "#FF33A6",
           "#FF33A6",
           "#FF33A6",
           "#FF33A6",
           "#FF33A6",
           "#FF33A6",
           "#FF33A6",
           "#FF33A6",
           "#FF33A6",
           "#FF33A6",
           "#FF33A6",
           "#FF33A6",
           "#FF33A6",
           "#FF33A6",
           "#FF33A6",
           "#FF33A6",
           "#FF33A6",
           "#FF33A6",
           "#FF33A6",
           "#FF33A6",
           "#FF33A6",
           "#FF33A6",
           "#FF33A6",
           "#FF33A6",
           "#FF33A6",
           "#FF33A6",
           "#FF33A6"
          ],
          "opacity": 0.7,
          "size": 3
         },
         "mode": "markers",
         "type": "scatter3d",
         "x": {
          "bdata": "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",
          "dtype": "f4"
         },
         "y": {
          "bdata": "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",
          "dtype": "f4"
         },
         "z": {
          "bdata": "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",
          "dtype": "f4"
         }
        }
       ],
       "layout": {
        "height": 800,
        "margin": {
         "b": 10,
         "l": 10,
         "r": 20,
         "t": 40
        },
        "scene": {
         "xaxis": {
          "title": {
           "text": "x"
          }
         },
         "yaxis": {
          "title": {
           "text": "y"
          }
         },
         "zaxis": {
          "title": {
           "text": "z"
          }
         }
        },
        "template": {
         "data": {
          "bar": [
           {
            "error_x": {
             "color": "#2a3f5f"
            },
            "error_y": {
             "color": "#2a3f5f"
            },
            "marker": {
             "line": {
              "color": "#E5ECF6",
              "width": 0.5
             },
             "pattern": {
              "fillmode": "overlay",
              "size": 10,
              "solidity": 0.2
             }
            },
            "type": "bar"
           }
          ],
          "barpolar": [
           {
            "marker": {
             "line": {
              "color": "#E5ECF6",
              "width": 0.5
             },
             "pattern": {
              "fillmode": "overlay",
              "size": 10,
              "solidity": 0.2
             }
            },
            "type": "barpolar"
           }
          ],
          "carpet": [
           {
            "aaxis": {
             "endlinecolor": "#2a3f5f",
             "gridcolor": "white",
             "linecolor": "white",
             "minorgridcolor": "white",
             "startlinecolor": "#2a3f5f"
            },
            "baxis": {
             "endlinecolor": "#2a3f5f",
             "gridcolor": "white",
             "linecolor": "white",
             "minorgridcolor": "white",
             "startlinecolor": "#2a3f5f"
            },
            "type": "carpet"
           }
          ],
          "choropleth": [
           {
            "colorbar": {
             "outlinewidth": 0,
             "ticks": ""
            },
            "type": "choropleth"
           }
          ],
          "contour": [
           {
            "colorbar": {
             "outlinewidth": 0,
             "ticks": ""
            },
            "colorscale": [
             [
              0,
              "#0d0887"
             ],
             [
              0.1111111111111111,
              "#46039f"
             ],
             [
              0.2222222222222222,
              "#7201a8"
             ],
             [
              0.3333333333333333,
              "#9c179e"
             ],
             [
              0.4444444444444444,
              "#bd3786"
             ],
             [
              0.5555555555555556,
              "#d8576b"
             ],
             [
              0.6666666666666666,
              "#ed7953"
             ],
             [
              0.7777777777777778,
              "#fb9f3a"
             ],
             [
              0.8888888888888888,
              "#fdca26"
             ],
             [
              1,
              "#f0f921"
             ]
            ],
            "type": "contour"
           }
          ],
          "contourcarpet": [
           {
            "colorbar": {
             "outlinewidth": 0,
             "ticks": ""
            },
            "type": "contourcarpet"
           }
          ],
          "heatmap": [
           {
            "colorbar": {
             "outlinewidth": 0,
             "ticks": ""
            },
            "colorscale": [
             [
              0,
              "#0d0887"
             ],
             [
              0.1111111111111111,
              "#46039f"
             ],
             [
              0.2222222222222222,
              "#7201a8"
             ],
             [
              0.3333333333333333,
              "#9c179e"
             ],
             [
              0.4444444444444444,
              "#bd3786"
             ],
             [
              0.5555555555555556,
              "#d8576b"
             ],
             [
              0.6666666666666666,
              "#ed7953"
             ],
             [
              0.7777777777777778,
              "#fb9f3a"
             ],
             [
              0.8888888888888888,
              "#fdca26"
             ],
             [
              1,
              "#f0f921"
             ]
            ],
            "type": "heatmap"
           }
          ],
          "histogram": [
           {
            "marker": {
             "pattern": {
              "fillmode": "overlay",
              "size": 10,
              "solidity": 0.2
             }
            },
            "type": "histogram"
           }
          ],
          "histogram2d": [
           {
            "colorbar": {
             "outlinewidth": 0,
             "ticks": ""
            },
            "colorscale": [
             [
              0,
              "#0d0887"
             ],
             [
              0.1111111111111111,
              "#46039f"
             ],
             [
              0.2222222222222222,
              "#7201a8"
             ],
             [
              0.3333333333333333,
              "#9c179e"
             ],
             [
              0.4444444444444444,
              "#bd3786"
             ],
             [
              0.5555555555555556,
              "#d8576b"
             ],
             [
              0.6666666666666666,
              "#ed7953"
             ],
             [
              0.7777777777777778,
              "#fb9f3a"
             ],
             [
              0.8888888888888888,
              "#fdca26"
             ],
             [
              1,
              "#f0f921"
             ]
            ],
            "type": "histogram2d"
           }
          ],
          "histogram2dcontour": [
           {
            "colorbar": {
             "outlinewidth": 0,
             "ticks": ""
            },
            "colorscale": [
             [
              0,
              "#0d0887"
             ],
             [
              0.1111111111111111,
              "#46039f"
             ],
             [
              0.2222222222222222,
              "#7201a8"
             ],
             [
              0.3333333333333333,
              "#9c179e"
             ],
             [
              0.4444444444444444,
              "#bd3786"
             ],
             [
              0.5555555555555556,
              "#d8576b"
             ],
             [
              0.6666666666666666,
              "#ed7953"
             ],
             [
              0.7777777777777778,
              "#fb9f3a"
             ],
             [
              0.8888888888888888,
              "#fdca26"
             ],
             [
              1,
              "#f0f921"
             ]
            ],
            "type": "histogram2dcontour"
           }
          ],
          "mesh3d": [
           {
            "colorbar": {
             "outlinewidth": 0,
             "ticks": ""
            },
            "type": "mesh3d"
           }
          ],
          "parcoords": [
           {
            "line": {
             "colorbar": {
              "outlinewidth": 0,
              "ticks": ""
             }
            },
            "type": "parcoords"
           }
          ],
          "pie": [
           {
            "automargin": true,
            "type": "pie"
           }
          ],
          "scatter": [
           {
            "fillpattern": {
             "fillmode": "overlay",
             "size": 10,
             "solidity": 0.2
            },
            "type": "scatter"
           }
          ],
          "scatter3d": [
           {
            "line": {
             "colorbar": {
              "outlinewidth": 0,
              "ticks": ""
             }
            },
            "marker": {
             "colorbar": {
              "outlinewidth": 0,
              "ticks": ""
             }
            },
            "type": "scatter3d"
           }
          ],
          "scattercarpet": [
           {
            "marker": {
             "colorbar": {
              "outlinewidth": 0,
              "ticks": ""
             }
            },
            "type": "scattercarpet"
           }
          ],
          "scattergeo": [
           {
            "marker": {
             "colorbar": {
              "outlinewidth": 0,
              "ticks": ""
             }
            },
            "type": "scattergeo"
           }
          ],
          "scattergl": [
           {
            "marker": {
             "colorbar": {
              "outlinewidth": 0,
              "ticks": ""
             }
            },
            "type": "scattergl"
           }
          ],
          "scattermap": [
           {
            "marker": {
             "colorbar": {
              "outlinewidth": 0,
              "ticks": ""
             }
            },
            "type": "scattermap"
           }
          ],
          "scattermapbox": [
           {
            "marker": {
             "colorbar": {
              "outlinewidth": 0,
              "ticks": ""
             }
            },
            "type": "scattermapbox"
           }
          ],
          "scatterpolar": [
           {
            "marker": {
             "colorbar": {
              "outlinewidth": 0,
              "ticks": ""
             }
            },
            "type": "scatterpolar"
           }
          ],
          "scatterpolargl": [
           {
            "marker": {
             "colorbar": {
              "outlinewidth": 0,
              "ticks": ""
             }
            },
            "type": "scatterpolargl"
           }
          ],
          "scatterternary": [
           {
            "marker": {
             "colorbar": {
              "outlinewidth": 0,
              "ticks": ""
             }
            },
            "type": "scatterternary"
           }
          ],
          "surface": [
           {
            "colorbar": {
             "outlinewidth": 0,
             "ticks": ""
            },
            "colorscale": [
             [
              0,
              "#0d0887"
             ],
             [
              0.1111111111111111,
              "#46039f"
             ],
             [
              0.2222222222222222,
              "#7201a8"
             ],
             [
              0.3333333333333333,
              "#9c179e"
             ],
             [
              0.4444444444444444,
              "#bd3786"
             ],
             [
              0.5555555555555556,
              "#d8576b"
             ],
             [
              0.6666666666666666,
              "#ed7953"
             ],
             [
              0.7777777777777778,
              "#fb9f3a"
             ],
             [
              0.8888888888888888,
              "#fdca26"
             ],
             [
              1,
              "#f0f921"
             ]
            ],
            "type": "surface"
           }
          ],
          "table": [
           {
            "cells": {
             "fill": {
              "color": "#EBF0F8"
             },
             "line": {
              "color": "white"
             }
            },
            "header": {
             "fill": {
              "color": "#C8D4E3"
             },
             "line": {
              "color": "white"
             }
            },
            "type": "table"
           }
          ]
         },
         "layout": {
          "annotationdefaults": {
           "arrowcolor": "#2a3f5f",
           "arrowhead": 0,
           "arrowwidth": 1
          },
          "autotypenumbers": "strict",
          "coloraxis": {
           "colorbar": {
            "outlinewidth": 0,
            "ticks": ""
           }
          },
          "colorscale": {
           "diverging": [
            [
             0,
             "#8e0152"
            ],
            [
             0.1,
             "#c51b7d"
            ],
            [
             0.2,
             "#de77ae"
            ],
            [
             0.3,
             "#f1b6da"
            ],
            [
             0.4,
             "#fde0ef"
            ],
            [
             0.5,
             "#f7f7f7"
            ],
            [
             0.6,
             "#e6f5d0"
            ],
            [
             0.7,
             "#b8e186"
            ],
            [
             0.8,
             "#7fbc41"
            ],
            [
             0.9,
             "#4d9221"
            ],
            [
             1,
             "#276419"
            ]
           ],
           "sequential": [
            [
             0,
             "#0d0887"
            ],
            [
             0.1111111111111111,
             "#46039f"
            ],
            [
             0.2222222222222222,
             "#7201a8"
            ],
            [
             0.3333333333333333,
             "#9c179e"
            ],
            [
             0.4444444444444444,
             "#bd3786"
            ],
            [
             0.5555555555555556,
             "#d8576b"
            ],
            [
             0.6666666666666666,
             "#ed7953"
            ],
            [
             0.7777777777777778,
             "#fb9f3a"
            ],
            [
             0.8888888888888888,
             "#fdca26"
            ],
            [
             1,
             "#f0f921"
            ]
           ],
           "sequentialminus": [
            [
             0,
             "#0d0887"
            ],
            [
             0.1111111111111111,
             "#46039f"
            ],
            [
             0.2222222222222222,
             "#7201a8"
            ],
            [
             0.3333333333333333,
             "#9c179e"
            ],
            [
             0.4444444444444444,
             "#bd3786"
            ],
            [
             0.5555555555555556,
             "#d8576b"
            ],
            [
             0.6666666666666666,
             "#ed7953"
            ],
            [
             0.7777777777777778,
             "#fb9f3a"
            ],
            [
             0.8888888888888888,
             "#fdca26"
            ],
            [
             1,
             "#f0f921"
            ]
           ]
          },
          "colorway": [
           "#636efa",
           "#EF553B",
           "#00cc96",
           "#ab63fa",
           "#FFA15A",
           "#19d3f3",
           "#FF6692",
           "#B6E880",
           "#FF97FF",
           "#FECB52"
          ],
          "font": {
           "color": "#2a3f5f"
          },
          "geo": {
           "bgcolor": "white",
           "lakecolor": "white",
           "landcolor": "#E5ECF6",
           "showlakes": true,
           "showland": true,
           "subunitcolor": "white"
          },
          "hoverlabel": {
           "align": "left"
          },
          "hovermode": "closest",
          "mapbox": {
           "style": "light"
          },
          "paper_bgcolor": "white",
          "plot_bgcolor": "#E5ECF6",
          "polar": {
           "angularaxis": {
            "gridcolor": "white",
            "linecolor": "white",
            "ticks": ""
           },
           "bgcolor": "#E5ECF6",
           "radialaxis": {
            "gridcolor": "white",
            "linecolor": "white",
            "ticks": ""
           }
          },
          "scene": {
           "xaxis": {
            "backgroundcolor": "#E5ECF6",
            "gridcolor": "white",
            "gridwidth": 2,
            "linecolor": "white",
            "showbackground": true,
            "ticks": "",
            "zerolinecolor": "white"
           },
           "yaxis": {
            "backgroundcolor": "#E5ECF6",
            "gridcolor": "white",
            "gridwidth": 2,
            "linecolor": "white",
            "showbackground": true,
            "ticks": "",
            "zerolinecolor": "white"
           },
           "zaxis": {
            "backgroundcolor": "#E5ECF6",
            "gridcolor": "white",
            "gridwidth": 2,
            "linecolor": "white",
            "showbackground": true,
            "ticks": "",
            "zerolinecolor": "white"
           }
          },
          "shapedefaults": {
           "line": {
            "color": "#2a3f5f"
           }
          },
          "ternary": {
           "aaxis": {
            "gridcolor": "white",
            "linecolor": "white",
            "ticks": ""
           },
           "baxis": {
            "gridcolor": "white",
            "linecolor": "white",
            "ticks": ""
           },
           "bgcolor": "#E5ECF6",
           "caxis": {
            "gridcolor": "white",
            "linecolor": "white",
            "ticks": ""
           }
          },
          "title": {
           "x": 0.05
          },
          "xaxis": {
           "automargin": true,
           "gridcolor": "white",
           "linecolor": "white",
           "ticks": "",
           "title": {
            "standoff": 15
           },
           "zerolinecolor": "white",
           "zerolinewidth": 2
          },
          "yaxis": {
           "automargin": true,
           "gridcolor": "white",
           "linecolor": "white",
           "ticks": "",
           "title": {
            "standoff": 15
           },
           "zerolinecolor": "white",
           "zerolinewidth": 2
          }
         }
        },
        "title": {
         "text": "3D Chroma Vector Store Visualization"
        },
        "width": 1200
       }
      }
     },
     "metadata": {},
     "output_type": "display_data"
    }
   ],
   "source": [
    "# Create the 3D scatter plot\n",
    "fig = go.Figure(data=[go.Scatter3d(\n",
    "    x=reduced_vectors[:, 0],\n",
    "    y=reduced_vectors[:, 1],\n",
    "    z=reduced_vectors[:, 2],\n",
    "    mode='markers',\n",
    "    marker=dict(size=3, color=colors, opacity=0.7),\n",
    ")])\n",
    "\n",
    "fig.update_layout(\n",
    "    title='3D Chroma Vector Store Visualization',\n",
    "    scene=dict(xaxis_title='x', yaxis_title='y', zaxis_title='z'),\n",
    "    width=1200,\n",
    "    height=800,\n",
    "    margin=dict(r=20, b=10, l=10, t=40)\n",
    ")\n",
    "\n",
    "fig.show()"
   ]
  }
 ],
 "metadata": {
  "kernelspec": {
   "display_name": "news-chatbot-Q2ywUKKQ",
   "language": "python",
   "name": "python3"
  },
  "language_info": {
   "codemirror_mode": {
    "name": "ipython",
    "version": 3
   },
   "file_extension": ".py",
   "mimetype": "text/x-python",
   "name": "python",
   "nbconvert_exporter": "python",
   "pygments_lexer": "ipython3",
   "version": "3.12.5"
  }
 },
 "nbformat": 4,
 "nbformat_minor": 2
}
