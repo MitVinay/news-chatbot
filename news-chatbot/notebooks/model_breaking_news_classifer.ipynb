{
 "cells": [
  {
   "cell_type": "markdown",
   "metadata": {},
   "source": [
    "We aim to highlight news stories based on their frequency, but with an additional layer of intelligence to help users quickly identify the most significant highlights. For example, a \"superstar getting divorced\" might be reported everywhere and is clearly breaking news, but without a proper system, it could get buried among other trending but less critical stories.\n",
    "\n",
    "Consider another case: a \"celebrity posting vacation photos on Instagram\" may also be widely circulated and appear across various platforms due to the celebrity's popularity. However, despite its high frequency, it isn't breaking news—just viral content.\n",
    "\n",
    "One key challenge we faced was the lack of a suitable dataset to differentiate between frequent but non-essential news and genuinely significant events.\n",
    "\n",
    "To overcome this, we designed a method called Synthetic Knowledge Data Distillation. In this approach:\n",
    "\n",
    "A larger model (the teacher) generates synthetic data, which can include examples, labels, or even entire datasets.\n",
    "A smaller model (the student) is then trained from scratch or fine-tuned on this generated data to better identify and prioritize meaningful news."
   ]
  },
  {
   "cell_type": "markdown",
   "metadata": {},
   "source": []
  }
 ],
 "metadata": {
  "language_info": {
   "name": "python"
  }
 },
 "nbformat": 4,
 "nbformat_minor": 2
}
